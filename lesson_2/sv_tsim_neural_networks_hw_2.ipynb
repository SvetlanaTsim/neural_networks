{
  "nbformat": 4,
  "nbformat_minor": 0,
  "metadata": {
    "colab": {
      "provenance": [],
      "collapsed_sections": [],
      "authorship_tag": "ABX9TyNxvl2yoCngeR5186Zq3kH2",
      "include_colab_link": true
    },
    "kernelspec": {
      "name": "python3",
      "display_name": "Python 3"
    },
    "language_info": {
      "name": "python"
    },
    "accelerator": "GPU",
    "gpuClass": "standard"
  },
  "cells": [
    {
      "cell_type": "markdown",
      "metadata": {
        "id": "view-in-github",
        "colab_type": "text"
      },
      "source": [
        "<a href=\"https://colab.research.google.com/github/SvetlanaTsim/neural_networks/blob/main/lesson_2/sv_tsim_neural_networks_hw_2.ipynb\" target=\"_parent\"><img src=\"https://colab.research.google.com/assets/colab-badge.svg\" alt=\"Open In Colab\"/></a>"
      ]
    },
    {
      "cell_type": "markdown",
      "source": [
        "# Введение в искусственные нейронные сети\n",
        "# Урок 2. Keras"
      ],
      "metadata": {
        "id": "t9ZIAzqAx_a2"
      }
    },
    {
      "cell_type": "markdown",
      "source": [
        "## Домашнее задание <a class='anchor' id='hw'>\n",
        "\n",
        "Используем набор примеров fashion-MNIST\n",
        "1. Опишите - какой результат нейросети получен в зависимости от:\n",
        "  - числа нейронов в слое (для 2-х слойной сети), \n",
        "  - числа слоев (2, 3, 5, 10) при близких размерах сети (близкое число тренируемых параметров).\n",
        "  - фиксируйте для тренировочного и тестового набора метрики accuracy.\n",
        "2.  Проверьте работу разных оптимизаторов (SGD, Adam, RMSProp) для одной из моделей п.1. Фиксируйте для тренировочного и тестового набора метрики accuracy.\n",
        "\n",
        "3. Сделайте вывод - что помогло вам улучшить качество классификации в нейросети на тестовом наборе? \n",
        "\n",
        "4. Для одного варианта сети сформируйте матрицу ошибок по классам. Оцените качество модели по каждому классу отдельно (полнота, точность)."
      ],
      "metadata": {
        "id": "Y9NaXjxTHxCU"
      }
    },
    {
      "cell_type": "markdown",
      "source": [
        "### Импорты"
      ],
      "metadata": {
        "id": "iQDYTQJh3Vzf"
      }
    },
    {
      "cell_type": "code",
      "source": [
        "import keras\n",
        "import matplotlib.pyplot as plt\n",
        "import tensorflow as tf\n",
        "import numpy as np\n",
        "from keras.layers import Dense\n",
        "from keras.models import Sequential\n",
        "from keras.utils.np_utils import to_categorical\n",
        "from keras import optimizers\n",
        "from sklearn.metrics import confusion_matrix, ConfusionMatrixDisplay\n",
        "from keras import optimizers\n",
        "import pandas as pd\n",
        "import numpy as np\n",
        "import matplotlib.pyplot as plt"
      ],
      "metadata": {
        "id": "1gNhWBcAyI6B"
      },
      "execution_count": null,
      "outputs": []
    },
    {
      "cell_type": "markdown",
      "source": [
        "### Загрузка данных"
      ],
      "metadata": {
        "id": "vGZle7SG3bQp"
      }
    },
    {
      "cell_type": "code",
      "source": [
        "fashion_mnist = tf.keras.datasets.fashion_mnist\n",
        "\n",
        "(train_images, train_labels), (test_images, test_labels) = fashion_mnist.load_data()"
      ],
      "metadata": {
        "id": "tj-CkWw-0Xgo",
        "colab": {
          "base_uri": "https://localhost:8080/"
        },
        "outputId": "aee41120-c1e9-4634-de4e-9027a8b778ea"
      },
      "execution_count": null,
      "outputs": [
        {
          "output_type": "stream",
          "name": "stdout",
          "text": [
            "Downloading data from https://storage.googleapis.com/tensorflow/tf-keras-datasets/train-labels-idx1-ubyte.gz\n",
            "29515/29515 [==============================] - 0s 0us/step\n",
            "Downloading data from https://storage.googleapis.com/tensorflow/tf-keras-datasets/train-images-idx3-ubyte.gz\n",
            "26421880/26421880 [==============================] - 0s 0us/step\n",
            "Downloading data from https://storage.googleapis.com/tensorflow/tf-keras-datasets/t10k-labels-idx1-ubyte.gz\n",
            "5148/5148 [==============================] - 0s 0us/step\n",
            "Downloading data from https://storage.googleapis.com/tensorflow/tf-keras-datasets/t10k-images-idx3-ubyte.gz\n",
            "4422102/4422102 [==============================] - 0s 0us/step\n"
          ]
        }
      ]
    },
    {
      "cell_type": "code",
      "source": [
        "print(train_images.shape, test_images.shape)\n",
        "print(train_labels.shape, test_labels.shape)"
      ],
      "metadata": {
        "colab": {
          "base_uri": "https://localhost:8080/"
        },
        "id": "ysjooRNj0_13",
        "outputId": "706bea6e-ff23-4a8a-8a75-1f82508bb668"
      },
      "execution_count": null,
      "outputs": [
        {
          "output_type": "stream",
          "name": "stdout",
          "text": [
            "(60000, 28, 28) (10000, 28, 28)\n",
            "(60000,) (10000,)\n"
          ]
        }
      ]
    },
    {
      "cell_type": "code",
      "source": [
        "ind = np.random.randint(0, train_images.shape[0])\n",
        "plt.imshow(train_images[ind], cmap='gray')\n",
        "print(f'Label is {train_labels[ind]}')"
      ],
      "metadata": {
        "colab": {
          "base_uri": "https://localhost:8080/",
          "height": 282
        },
        "id": "2X2jW-kl1evn",
        "outputId": "8dcd9869-1298-483a-bb8f-1a75458efede"
      },
      "execution_count": null,
      "outputs": [
        {
          "output_type": "stream",
          "name": "stdout",
          "text": [
            "Label is 3\n"
          ]
        },
        {
          "output_type": "display_data",
          "data": {
            "text/plain": [
              "<Figure size 432x288 with 1 Axes>"
            ],
            "image/png": "[encoded data removed]"
          },
          "metadata": {
            "needs_background": "light"
          }
        }
      ]
    },
    {
      "cell_type": "code",
      "source": [
        "plt.imshow(train_images[5], cmap='gray')\n",
        "print(f'Label is {train_labels[5]}')"
      ],
      "metadata": {
        "colab": {
          "base_uri": "https://localhost:8080/",
          "height": 282
        },
        "id": "qAZ-1qcC1vLk",
        "outputId": "a446c5ca-4146-4414-932e-6177526dd744"
      },
      "execution_count": null,
      "outputs": [
        {
          "output_type": "stream",
          "name": "stdout",
          "text": [
            "Label is 2\n"
          ]
        },
        {
          "output_type": "display_data",
          "data": {
            "text/plain": [
              "<Figure size 432x288 with 1 Axes>"
            ],
            "image/png": "[encoded data removed]"
          },
          "metadata": {
            "needs_background": "light"
          }
        }
      ]
    },
    {
      "cell_type": "code",
      "source": [
        "class_names = ['T-shirt/top', 'Trouser', 'Pullover', 'Dress', 'Coat',\n",
        "               'Sandal', 'Shirt', 'Sneaker', 'Bag', 'Ankle boot']"
      ],
      "metadata": {
        "id": "sRvMQz-uG7h2"
      },
      "execution_count": null,
      "outputs": []
    },
    {
      "cell_type": "code",
      "source": [
        "plt.figure(figsize=(10,10))\n",
        "for i in range(25):\n",
        "    plt.subplot(5,5,i+1)\n",
        "    plt.xticks([])\n",
        "    plt.yticks([])\n",
        "    plt.grid(False)\n",
        "    plt.imshow(train_images[i], cmap=plt.cm.binary)\n",
        "    plt.xlabel(class_names[train_labels[i]])\n",
        "plt.show()"
      ],
      "metadata": {
        "colab": {
          "base_uri": "https://localhost:8080/",
          "height": 589
        },
        "id": "pv5P4E6gGvAn",
        "outputId": "de9eba0b-d133-466f-a855-f9cb93f7da34"
      },
      "execution_count": null,
      "outputs": [
        {
          "output_type": "display_data",
          "data": {
            "text/plain": [
              "<Figure size 720x720 with 25 Axes>"
            ],
            "image/png": "[encoded data removed]"
          },
          "metadata": {}
        }
      ]
    },
    {
      "cell_type": "code",
      "source": [
        "train_labels"
      ],
      "metadata": {
        "colab": {
          "base_uri": "https://localhost:8080/"
        },
        "id": "8jsWybVa2M9E",
        "outputId": "35af6e64-4f28-4fbd-ff97-910211d78aac"
      },
      "execution_count": null,
      "outputs": [
        {
          "output_type": "execute_result",
          "data": {
            "text/plain": [
              "array([9, 0, 0, ..., 3, 0, 5], dtype=uint8)"
            ]
          },
          "metadata": {},
          "execution_count": 9
        }
      ]
    },
    {
      "cell_type": "code",
      "source": [
        "#посмотрим на объекты с классом 0 (видимо футболки и топы)\n",
        "plt.imshow(train_images[1], cmap='gray')\n",
        "print(f'Label is {train_labels[1]}')"
      ],
      "metadata": {
        "colab": {
          "base_uri": "https://localhost:8080/",
          "height": 282
        },
        "id": "QifmUAI42SsL",
        "outputId": "ef530356-627d-4222-84cb-18b3b10ca913"
      },
      "execution_count": null,
      "outputs": [
        {
          "output_type": "stream",
          "name": "stdout",
          "text": [
            "Label is 0\n"
          ]
        },
        {
          "output_type": "display_data",
          "data": {
            "text/plain": [
              "<Figure size 432x288 with 1 Axes>"
            ],
            "image/png": "[encoded data removed]"
          },
          "metadata": {
            "needs_background": "light"
          }
        }
      ]
    },
    {
      "cell_type": "code",
      "source": [
        "plt.imshow(train_images[2], cmap='gray')\n",
        "print(f'Label is {train_labels[2]}')"
      ],
      "metadata": {
        "colab": {
          "base_uri": "https://localhost:8080/",
          "height": 282
        },
        "id": "NBYJiG1q2Wwc",
        "outputId": "3203deb4-7523-4c1c-e143-36a29539785c"
      },
      "execution_count": null,
      "outputs": [
        {
          "output_type": "stream",
          "name": "stdout",
          "text": [
            "Label is 0\n"
          ]
        },
        {
          "output_type": "display_data",
          "data": {
            "text/plain": [
              "<Figure size 432x288 with 1 Axes>"
            ],
            "image/png": "[encoded data removed]"
          },
          "metadata": {
            "needs_background": "light"
          }
        }
      ]
    },
    {
      "cell_type": "code",
      "source": [
        "plt.imshow(train_images[-2], cmap='gray')\n",
        "print(f'Label is {train_labels[-2]}')"
      ],
      "metadata": {
        "colab": {
          "base_uri": "https://localhost:8080/",
          "height": 282
        },
        "id": "iCmUw5du2d_I",
        "outputId": "97b6866e-e90d-4ed7-947b-fb2c484cad45"
      },
      "execution_count": null,
      "outputs": [
        {
          "output_type": "stream",
          "name": "stdout",
          "text": [
            "Label is 0\n"
          ]
        },
        {
          "output_type": "display_data",
          "data": {
            "text/plain": [
              "<Figure size 432x288 with 1 Axes>"
            ],
            "image/png": "[encoded data removed]"
          },
          "metadata": {
            "needs_background": "light"
          }
        }
      ]
    },
    {
      "cell_type": "markdown",
      "source": [
        "### Нормализация данных и вытягивание признаков\n",
        "\n"
      ],
      "metadata": {
        "id": "p51hXii83gux"
      }
    },
    {
      "cell_type": "code",
      "source": [
        "#нормализация данных\n",
        "\n",
        "train_images.min(), train_images.max()"
      ],
      "metadata": {
        "colab": {
          "base_uri": "https://localhost:8080/"
        },
        "id": "OqZ9IKuN28to",
        "outputId": "8c47327d-9749-4f6c-b834-d1538337fd82"
      },
      "execution_count": null,
      "outputs": [
        {
          "output_type": "execute_result",
          "data": {
            "text/plain": [
              "(0, 255)"
            ]
          },
          "metadata": {},
          "execution_count": 13
        }
      ]
    },
    {
      "cell_type": "code",
      "source": [
        "# Нормировка\n",
        "train_images = train_images / 255.0\n",
        "test_images = test_images / 255.0\n",
        "train_images.min(), train_images.max()"
      ],
      "metadata": {
        "colab": {
          "base_uri": "https://localhost:8080/"
        },
        "id": "7awezaVo3Hph",
        "outputId": "578268ba-fa71-4dde-9d57-06dafec0c9e5"
      },
      "execution_count": null,
      "outputs": [
        {
          "output_type": "execute_result",
          "data": {
            "text/plain": [
              "(0.0, 1.0)"
            ]
          },
          "metadata": {},
          "execution_count": 14
        }
      ]
    },
    {
      "cell_type": "code",
      "source": [
        "# Вытягивание признаков\n",
        "X_train = train_images.reshape((-1, 28 * 28))\n",
        "X_test = test_images.reshape((-1, 28 * 28))\n",
        "\n",
        "X_train.shape, X_train .shape"
      ],
      "metadata": {
        "colab": {
          "base_uri": "https://localhost:8080/"
        },
        "id": "btZeEfrp3o-B",
        "outputId": "30dfe488-ca13-427b-ffc4-655f6fc2af94"
      },
      "execution_count": null,
      "outputs": [
        {
          "output_type": "execute_result",
          "data": {
            "text/plain": [
              "((60000, 784), (60000, 784))"
            ]
          },
          "metadata": {},
          "execution_count": 15
        }
      ]
    },
    {
      "cell_type": "code",
      "source": [
        "X_train"
      ],
      "metadata": {
        "colab": {
          "base_uri": "https://localhost:8080/"
        },
        "id": "whOKgHfT4Ic_",
        "outputId": "8453435c-f1df-4d2f-d411-22408960897b"
      },
      "execution_count": null,
      "outputs": [
        {
          "output_type": "execute_result",
          "data": {
            "text/plain": [
              "array([[0., 0., 0., ..., 0., 0., 0.],\n",
              "       [0., 0., 0., ..., 0., 0., 0.],\n",
              "       [0., 0., 0., ..., 0., 0., 0.],\n",
              "       ...,\n",
              "       [0., 0., 0., ..., 0., 0., 0.],\n",
              "       [0., 0., 0., ..., 0., 0., 0.],\n",
              "       [0., 0., 0., ..., 0., 0., 0.]])"
            ]
          },
          "metadata": {},
          "execution_count": 16
        }
      ]
    },
    {
      "cell_type": "code",
      "source": [
        "X_train.min(), X_train.max()"
      ],
      "metadata": {
        "colab": {
          "base_uri": "https://localhost:8080/"
        },
        "id": "owqh6VyDpXRh",
        "outputId": "1b805305-d6f1-4f81-a192-c7c3b5ea5316"
      },
      "execution_count": null,
      "outputs": [
        {
          "output_type": "execute_result",
          "data": {
            "text/plain": [
              "(0.0, 1.0)"
            ]
          },
          "metadata": {},
          "execution_count": 17
        }
      ]
    },
    {
      "cell_type": "code",
      "source": [
        "y_train = to_categorical(train_labels)\n",
        "y_test = to_categorical(test_labels)\n",
        "\n",
        "y_train[:5], y_test[:5]"
      ],
      "metadata": {
        "colab": {
          "base_uri": "https://localhost:8080/"
        },
        "id": "BuHP7IYXqLQ2",
        "outputId": "05f49c90-2c43-4d0c-dfb5-7bc6c9af95c0"
      },
      "execution_count": null,
      "outputs": [
        {
          "output_type": "execute_result",
          "data": {
            "text/plain": [
              "(array([[0., 0., 0., 0., 0., 0., 0., 0., 0., 1.],\n",
              "        [1., 0., 0., 0., 0., 0., 0., 0., 0., 0.],\n",
              "        [1., 0., 0., 0., 0., 0., 0., 0., 0., 0.],\n",
              "        [0., 0., 0., 1., 0., 0., 0., 0., 0., 0.],\n",
              "        [1., 0., 0., 0., 0., 0., 0., 0., 0., 0.]], dtype=float32),\n",
              " array([[0., 0., 0., 0., 0., 0., 0., 0., 0., 1.],\n",
              "        [0., 0., 1., 0., 0., 0., 0., 0., 0., 0.],\n",
              "        [0., 1., 0., 0., 0., 0., 0., 0., 0., 0.],\n",
              "        [0., 1., 0., 0., 0., 0., 0., 0., 0., 0.],\n",
              "        [0., 0., 0., 0., 0., 0., 1., 0., 0., 0.]], dtype=float32))"
            ]
          },
          "metadata": {},
          "execution_count": 18
        }
      ]
    },
    {
      "cell_type": "markdown",
      "source": [
        "Обучение нейросети"
      ],
      "metadata": {
        "id": "6zLnpPsSQhZR"
      }
    },
    {
      "cell_type": "markdown",
      "source": [
        "Задание 1"
      ],
      "metadata": {
        "id": "OVyrbdfVZy6W"
      }
    },
    {
      "cell_type": "markdown",
      "source": [
        "1. Опишите - какой результат нейросети получен в зависимости от:\n",
        "  - числа нейронов в слое (для 2-х слойной сети), \n",
        "  - числа слоев (2, 3, 5, 10) при близких размерах сети (близкое число тренируемых параметров).\n",
        "  - фиксируйте для тренировочного и тестового набора метрики accuracy."
      ],
      "metadata": {
        "id": "TsihHHO6PKEF"
      }
    },
    {
      "cell_type": "markdown",
      "source": [
        "Проверим качество в зависимости от числа нейронов в слое (для 2-х слойной сети)."
      ],
      "metadata": {
        "id": "VMJgSAW1Qs94"
      }
    },
    {
      "cell_type": "code",
      "source": [
        "%%time\n",
        "results_num = pd.DataFrame()\n",
        "n_nums = []\n",
        "train_losses = []\n",
        "test_losses = []\n",
        "train_metrics = []\n",
        "test_metrics = []\n",
        "\n",
        "\n",
        "for n_num in list(map(lambda x: 2**x, range(0,10))):\n",
        "    \n",
        "    n_nums.append(n_num)\n",
        "    import tensorflow as tf\n",
        "    tf.random.set_seed(1)\n",
        "    \n",
        "    model = Sequential([\n",
        "        Dense(64, input_shape=(28 * 28,), activation='relu'),\n",
        "        Dense(n_num, activation='relu'),\n",
        "        Dense(10, activation='sigmoid')\n",
        "    ])\n",
        "\n",
        "    model.summary()\n",
        "    \n",
        "    # Компиляция модели\n",
        "    model.compile(loss='categorical_crossentropy', optimizer='SGD', metrics=['accuracy'])\n",
        "    \n",
        "    history = model.fit(X_train, y_train,\n",
        "                    epochs=5,\n",
        "                    batch_size=64,\n",
        "                    verbose=1,\n",
        "                    validation_data=(X_test, y_test)\n",
        "                    )\n",
        "    train_acc = history.history['accuracy']\n",
        "    val_acc = history.history['val_accuracy']\n",
        "    \n",
        "    train_loss, train_metric = model.evaluate(X_train, y_train, batch_size=64)\n",
        "    train_losses.append(train_loss)\n",
        "    train_metrics.append(train_metric)\n",
        "    test_loss, test_metric = model.evaluate(X_test, y_test, batch_size=64)\n",
        "    test_losses.append(test_loss)\n",
        "    test_metrics.append(test_metric)\n",
        "    \n",
        "    \n",
        "results_num['n_num'] = n_nums\n",
        "results_num['train_loss'] = train_losses\n",
        "results_num['test_loss'] = test_losses\n",
        "results_num['train_metric'] = train_metrics\n",
        "results_num['test_metric'] = test_metrics\n",
        "results_num.sort_values(by='test_metric', ascending=False)"
      ],
      "metadata": {
        "colab": {
          "base_uri": "https://localhost:8080/",
          "height": 1000
        },
        "id": "yd2tVsDdPTz1",
        "outputId": "6d65be94-9753-4496-cede-d19e41915e75"
      },
      "execution_count": null,
      "outputs": [
        {
          "output_type": "stream",
          "name": "stdout",
          "text": [
            "Model: \"sequential\"\n",
            "_________________________________________________________________\n",
            " Layer (type)                Output Shape              Param #   \n",
            "=================================================================\n",
            " dense (Dense)               (None, 64)                50240     \n",
            "                                                                 \n",
            " dense_1 (Dense)             (None, 1)                 65        \n",
            "                                                                 \n",
            " dense_2 (Dense)             (None, 10)                20        \n",
            "                                                                 \n",
            "=================================================================\n",
            "Total params: 50,325\n",
            "Trainable params: 50,325\n",
            "Non-trainable params: 0\n",
            "_________________________________________________________________\n",
            "Epoch 1/5\n",
            "938/938 [==============================] - 9s 6ms/step - loss: 2.0994 - accuracy: 0.1847 - val_loss: 1.9631 - val_accuracy: 0.2122\n",
            "Epoch 2/5\n",
            "938/938 [==============================] - 5s 5ms/step - loss: 1.8980 - accuracy: 0.2217 - val_loss: 1.8610 - val_accuracy: 0.2288\n",
            "Epoch 3/5\n",
            "938/938 [==============================] - 3s 3ms/step - loss: 1.8204 - accuracy: 0.2434 - val_loss: 1.7997 - val_accuracy: 0.2612\n",
            "Epoch 4/5\n",
            "938/938 [==============================] - 3s 3ms/step - loss: 1.7314 - accuracy: 0.2872 - val_loss: 1.6797 - val_accuracy: 0.3030\n",
            "Epoch 5/5\n",
            "938/938 [==============================] - 3s 3ms/step - loss: 1.6329 - accuracy: 0.3120 - val_loss: 1.6072 - val_accuracy: 0.3050\n",
            "938/938 [==============================] - 2s 3ms/step - loss: 1.5997 - accuracy: 0.3059\n",
            "157/157 [==============================] - 0s 2ms/step - loss: 1.6072 - accuracy: 0.3050\n",
            "Model: \"sequential_1\"\n",
            "_________________________________________________________________\n",
            " Layer (type)                Output Shape              Param #   \n",
            "=================================================================\n",
            " dense_3 (Dense)             (None, 64)                50240     \n",
            "                                                                 \n",
            " dense_4 (Dense)             (None, 2)                 130       \n",
            "                                                                 \n",
            " dense_5 (Dense)             (None, 10)                30        \n",
            "                                                                 \n",
            "=================================================================\n",
            "Total params: 50,400\n",
            "Trainable params: 50,400\n",
            "Non-trainable params: 0\n",
            "_________________________________________________________________\n",
            "Epoch 1/5\n",
            "938/938 [==============================] - 3s 3ms/step - loss: 1.9108 - accuracy: 0.3014 - val_loss: 1.5629 - val_accuracy: 0.4215\n",
            "Epoch 2/5\n",
            "938/938 [==============================] - 3s 3ms/step - loss: 1.4377 - accuracy: 0.4338 - val_loss: 1.3682 - val_accuracy: 0.4623\n",
            "Epoch 3/5\n",
            "938/938 [==============================] - 3s 3ms/step - loss: 1.3065 - accuracy: 0.4870 - val_loss: 1.2788 - val_accuracy: 0.4956\n",
            "Epoch 4/5\n",
            "938/938 [==============================] - 3s 3ms/step - loss: 1.2382 - accuracy: 0.5032 - val_loss: 1.2301 - val_accuracy: 0.5148\n",
            "Epoch 5/5\n",
            "938/938 [==============================] - 3s 4ms/step - loss: 1.1943 - accuracy: 0.5114 - val_loss: 1.1880 - val_accuracy: 0.5264\n",
            "938/938 [==============================] - 2s 3ms/step - loss: 1.1747 - accuracy: 0.5268\n",
            "157/157 [==============================] - 0s 2ms/step - loss: 1.1880 - accuracy: 0.5264\n",
            "Model: \"sequential_2\"\n",
            "_________________________________________________________________\n",
            " Layer (type)                Output Shape              Param #   \n",
            "=================================================================\n",
            " dense_6 (Dense)             (None, 64)                50240     \n",
            "                                                                 \n",
            " dense_7 (Dense)             (None, 4)                 260       \n",
            "                                                                 \n",
            " dense_8 (Dense)             (None, 10)                50        \n",
            "                                                                 \n",
            "=================================================================\n",
            "Total params: 50,550\n",
            "Trainable params: 50,550\n",
            "Non-trainable params: 0\n",
            "_________________________________________________________________\n",
            "Epoch 1/5\n",
            "938/938 [==============================] - 3s 3ms/step - loss: 1.7163 - accuracy: 0.3975 - val_loss: 1.1969 - val_accuracy: 0.5919\n",
            "Epoch 2/5\n",
            "938/938 [==============================] - 3s 3ms/step - loss: 0.9176 - accuracy: 0.6867 - val_loss: 0.7870 - val_accuracy: 0.7254\n",
            "Epoch 3/5\n",
            "938/938 [==============================] - 3s 4ms/step - loss: 0.7052 - accuracy: 0.7559 - val_loss: 0.6890 - val_accuracy: 0.7569\n",
            "Epoch 4/5\n",
            "938/938 [==============================] - 3s 4ms/step - loss: 0.6372 - accuracy: 0.7780 - val_loss: 0.6574 - val_accuracy: 0.7694\n",
            "Epoch 5/5\n",
            "938/938 [==============================] - 3s 3ms/step - loss: 0.5944 - accuracy: 0.7898 - val_loss: 0.6054 - val_accuracy: 0.7846\n",
            "938/938 [==============================] - 2s 3ms/step - loss: 0.5732 - accuracy: 0.7965\n",
            "157/157 [==============================] - 0s 3ms/step - loss: 0.6054 - accuracy: 0.7846\n",
            "Model: \"sequential_3\"\n",
            "_________________________________________________________________\n",
            " Layer (type)                Output Shape              Param #   \n",
            "=================================================================\n",
            " dense_9 (Dense)             (None, 64)                50240     \n",
            "                                                                 \n",
            " dense_10 (Dense)            (None, 8)                 520       \n",
            "                                                                 \n",
            " dense_11 (Dense)            (None, 10)                90        \n",
            "                                                                 \n",
            "=================================================================\n",
            "Total params: 50,850\n",
            "Trainable params: 50,850\n",
            "Non-trainable params: 0\n",
            "_________________________________________________________________\n",
            "Epoch 1/5\n",
            "938/938 [==============================] - 4s 3ms/step - loss: 1.3905 - accuracy: 0.5520 - val_loss: 1.0083 - val_accuracy: 0.6766\n",
            "Epoch 2/5\n",
            "938/938 [==============================] - 3s 3ms/step - loss: 0.8719 - accuracy: 0.7222 - val_loss: 0.7977 - val_accuracy: 0.7352\n",
            "Epoch 3/5\n",
            "938/938 [==============================] - 3s 4ms/step - loss: 0.6871 - accuracy: 0.7767 - val_loss: 0.6451 - val_accuracy: 0.7826\n",
            "Epoch 4/5\n",
            "938/938 [==============================] - 3s 3ms/step - loss: 0.5756 - accuracy: 0.8068 - val_loss: 0.5811 - val_accuracy: 0.7993\n",
            "Epoch 5/5\n",
            "938/938 [==============================] - 3s 4ms/step - loss: 0.5293 - accuracy: 0.8192 - val_loss: 0.5344 - val_accuracy: 0.8152\n",
            "938/938 [==============================] - 2s 3ms/step - loss: 0.5042 - accuracy: 0.8279\n",
            "157/157 [==============================] - 0s 3ms/step - loss: 0.5344 - accuracy: 0.8152\n",
            "Model: \"sequential_4\"\n",
            "_________________________________________________________________\n",
            " Layer (type)                Output Shape              Param #   \n",
            "=================================================================\n",
            " dense_12 (Dense)            (None, 64)                50240     \n",
            "                                                                 \n",
            " dense_13 (Dense)            (None, 16)                1040      \n",
            "                                                                 \n",
            " dense_14 (Dense)            (None, 10)                170       \n",
            "                                                                 \n",
            "=================================================================\n",
            "Total params: 51,450\n",
            "Trainable params: 51,450\n",
            "Non-trainable params: 0\n",
            "_________________________________________________________________\n",
            "Epoch 1/5\n",
            "938/938 [==============================] - 4s 4ms/step - loss: 1.1264 - accuracy: 0.6233 - val_loss: 0.7151 - val_accuracy: 0.7505\n",
            "Epoch 2/5\n",
            "938/938 [==============================] - 3s 4ms/step - loss: 0.6023 - accuracy: 0.7980 - val_loss: 0.5783 - val_accuracy: 0.8022\n",
            "Epoch 3/5\n",
            "938/938 [==============================] - 3s 3ms/step - loss: 0.5286 - accuracy: 0.8192 - val_loss: 0.5819 - val_accuracy: 0.7942\n",
            "Epoch 4/5\n",
            "938/938 [==============================] - 3s 4ms/step - loss: 0.4946 - accuracy: 0.8305 - val_loss: 0.5217 - val_accuracy: 0.8186\n",
            "Epoch 5/5\n",
            "938/938 [==============================] - 3s 4ms/step - loss: 0.4716 - accuracy: 0.8374 - val_loss: 0.4930 - val_accuracy: 0.8277\n",
            "938/938 [==============================] - 2s 3ms/step - loss: 0.4565 - accuracy: 0.8422\n",
            "157/157 [==============================] - 0s 3ms/step - loss: 0.4930 - accuracy: 0.8277\n",
            "Model: \"sequential_5\"\n",
            "_________________________________________________________________\n",
            " Layer (type)                Output Shape              Param #   \n",
            "=================================================================\n",
            " dense_15 (Dense)            (None, 64)                50240     \n",
            "                                                                 \n",
            " dense_16 (Dense)            (None, 32)                2080      \n",
            "                                                                 \n",
            " dense_17 (Dense)            (None, 10)                330       \n",
            "                                                                 \n",
            "=================================================================\n",
            "Total params: 52,650\n",
            "Trainable params: 52,650\n",
            "Non-trainable params: 0\n",
            "_________________________________________________________________\n",
            "Epoch 1/5\n",
            "938/938 [==============================] - 4s 4ms/step - loss: 0.9254 - accuracy: 0.7059 - val_loss: 0.6550 - val_accuracy: 0.7715\n",
            "Epoch 2/5\n",
            "938/938 [==============================] - 3s 3ms/step - loss: 0.5702 - accuracy: 0.8037 - val_loss: 0.5607 - val_accuracy: 0.8102\n",
            "Epoch 3/5\n",
            "938/938 [==============================] - 3s 3ms/step - loss: 0.5132 - accuracy: 0.8228 - val_loss: 0.5739 - val_accuracy: 0.7949\n",
            "Epoch 4/5\n",
            "938/938 [==============================] - 3s 4ms/step - loss: 0.4824 - accuracy: 0.8329 - val_loss: 0.5061 - val_accuracy: 0.8252\n",
            "Epoch 5/5\n",
            "938/938 [==============================] - 3s 3ms/step - loss: 0.4607 - accuracy: 0.8396 - val_loss: 0.4773 - val_accuracy: 0.8328\n",
            "938/938 [==============================] - 3s 3ms/step - loss: 0.4417 - accuracy: 0.8467\n",
            "157/157 [==============================] - 0s 3ms/step - loss: 0.4773 - accuracy: 0.8328\n",
            "Model: \"sequential_6\"\n",
            "_________________________________________________________________\n",
            " Layer (type)                Output Shape              Param #   \n",
            "=================================================================\n",
            " dense_18 (Dense)            (None, 64)                50240     \n",
            "                                                                 \n",
            " dense_19 (Dense)            (None, 64)                4160      \n",
            "                                                                 \n",
            " dense_20 (Dense)            (None, 10)                650       \n",
            "                                                                 \n",
            "=================================================================\n",
            "Total params: 55,050\n",
            "Trainable params: 55,050\n",
            "Non-trainable params: 0\n",
            "_________________________________________________________________\n",
            "Epoch 1/5\n",
            "938/938 [==============================] - 4s 4ms/step - loss: 0.9574 - accuracy: 0.6934 - val_loss: 0.6604 - val_accuracy: 0.7708\n",
            "Epoch 2/5\n",
            "938/938 [==============================] - 3s 3ms/step - loss: 0.5752 - accuracy: 0.8048 - val_loss: 0.5562 - val_accuracy: 0.8095\n",
            "Epoch 3/5\n",
            "938/938 [==============================] - 3s 4ms/step - loss: 0.5095 - accuracy: 0.8262 - val_loss: 0.5499 - val_accuracy: 0.8040\n",
            "Epoch 4/5\n",
            "938/938 [==============================] - 3s 4ms/step - loss: 0.4777 - accuracy: 0.8341 - val_loss: 0.5048 - val_accuracy: 0.8243\n",
            "Epoch 5/5\n",
            "938/938 [==============================] - 3s 4ms/step - loss: 0.4560 - accuracy: 0.8415 - val_loss: 0.4741 - val_accuracy: 0.8335\n",
            "938/938 [==============================] - 2s 3ms/step - loss: 0.4396 - accuracy: 0.8471\n",
            "157/157 [==============================] - 0s 3ms/step - loss: 0.4741 - accuracy: 0.8335\n",
            "Model: \"sequential_7\"\n",
            "_________________________________________________________________\n",
            " Layer (type)                Output Shape              Param #   \n",
            "=================================================================\n",
            " dense_21 (Dense)            (None, 64)                50240     \n",
            "                                                                 \n",
            " dense_22 (Dense)            (None, 128)               8320      \n",
            "                                                                 \n",
            " dense_23 (Dense)            (None, 10)                1290      \n",
            "                                                                 \n",
            "=================================================================\n",
            "Total params: 59,850\n",
            "Trainable params: 59,850\n",
            "Non-trainable params: 0\n",
            "_________________________________________________________________\n",
            "Epoch 1/5\n",
            "938/938 [==============================] - 4s 3ms/step - loss: 0.9310 - accuracy: 0.7022 - val_loss: 0.6562 - val_accuracy: 0.7723\n",
            "Epoch 2/5\n",
            "938/938 [==============================] - 3s 4ms/step - loss: 0.5715 - accuracy: 0.8064 - val_loss: 0.5532 - val_accuracy: 0.8105\n",
            "Epoch 3/5\n",
            "938/938 [==============================] - 3s 3ms/step - loss: 0.5079 - accuracy: 0.8245 - val_loss: 0.5445 - val_accuracy: 0.8058\n",
            "Epoch 4/5\n",
            "938/938 [==============================] - 3s 4ms/step - loss: 0.4759 - accuracy: 0.8347 - val_loss: 0.5000 - val_accuracy: 0.8257\n",
            "Epoch 5/5\n",
            "938/938 [==============================] - 3s 4ms/step - loss: 0.4542 - accuracy: 0.8411 - val_loss: 0.4707 - val_accuracy: 0.8345\n",
            "938/938 [==============================] - 2s 3ms/step - loss: 0.4374 - accuracy: 0.8472\n",
            "157/157 [==============================] - 0s 3ms/step - loss: 0.4707 - accuracy: 0.8345\n",
            "Model: \"sequential_8\"\n",
            "_________________________________________________________________\n",
            " Layer (type)                Output Shape              Param #   \n",
            "=================================================================\n",
            " dense_24 (Dense)            (None, 64)                50240     \n",
            "                                                                 \n",
            " dense_25 (Dense)            (None, 256)               16640     \n",
            "                                                                 \n",
            " dense_26 (Dense)            (None, 10)                2570      \n",
            "                                                                 \n",
            "=================================================================\n",
            "Total params: 69,450\n",
            "Trainable params: 69,450\n",
            "Non-trainable params: 0\n",
            "_________________________________________________________________\n",
            "Epoch 1/5\n",
            "938/938 [==============================] - 4s 4ms/step - loss: 0.9699 - accuracy: 0.6832 - val_loss: 0.6797 - val_accuracy: 0.7559\n",
            "Epoch 2/5\n",
            "938/938 [==============================] - 3s 3ms/step - loss: 0.5850 - accuracy: 0.7991 - val_loss: 0.5648 - val_accuracy: 0.8001\n",
            "Epoch 3/5\n",
            "938/938 [==============================] - 3s 3ms/step - loss: 0.5166 - accuracy: 0.8202 - val_loss: 0.5588 - val_accuracy: 0.7978\n",
            "Epoch 4/5\n",
            "938/938 [==============================] - 3s 3ms/step - loss: 0.4823 - accuracy: 0.8311 - val_loss: 0.5055 - val_accuracy: 0.8195\n",
            "Epoch 5/5\n",
            "938/938 [==============================] - 3s 4ms/step - loss: 0.4594 - accuracy: 0.8388 - val_loss: 0.4788 - val_accuracy: 0.8293\n",
            "938/938 [==============================] - 2s 3ms/step - loss: 0.4439 - accuracy: 0.8439\n",
            "157/157 [==============================] - 0s 3ms/step - loss: 0.4788 - accuracy: 0.8293\n",
            "Model: \"sequential_9\"\n",
            "_________________________________________________________________\n",
            " Layer (type)                Output Shape              Param #   \n",
            "=================================================================\n",
            " dense_27 (Dense)            (None, 64)                50240     \n",
            "                                                                 \n",
            " dense_28 (Dense)            (None, 512)               33280     \n",
            "                                                                 \n",
            " dense_29 (Dense)            (None, 10)                5130      \n",
            "                                                                 \n",
            "=================================================================\n",
            "Total params: 88,650\n",
            "Trainable params: 88,650\n",
            "Non-trainable params: 0\n",
            "_________________________________________________________________\n",
            "Epoch 1/5\n",
            "938/938 [==============================] - 4s 4ms/step - loss: 1.0082 - accuracy: 0.6737 - val_loss: 0.6870 - val_accuracy: 0.7515\n",
            "Epoch 2/5\n",
            "938/938 [==============================] - 4s 4ms/step - loss: 0.5950 - accuracy: 0.7927 - val_loss: 0.5716 - val_accuracy: 0.7985\n",
            "Epoch 3/5\n",
            "938/938 [==============================] - 4s 4ms/step - loss: 0.5237 - accuracy: 0.8166 - val_loss: 0.5650 - val_accuracy: 0.7983\n",
            "Epoch 4/5\n",
            "938/938 [==============================] - 4s 4ms/step - loss: 0.4884 - accuracy: 0.8292 - val_loss: 0.5117 - val_accuracy: 0.8192\n",
            "Epoch 5/5\n",
            "938/938 [==============================] - 3s 3ms/step - loss: 0.4652 - accuracy: 0.8360 - val_loss: 0.4831 - val_accuracy: 0.8287\n",
            "938/938 [==============================] - 2s 3ms/step - loss: 0.4479 - accuracy: 0.8429\n",
            "157/157 [==============================] - 0s 3ms/step - loss: 0.4831 - accuracy: 0.8287\n",
            "CPU times: user 3min 37s, sys: 27.9 s, total: 4min 4s\n",
            "Wall time: 4min 10s\n"
          ]
        },
        {
          "output_type": "execute_result",
          "data": {
            "text/plain": [
              "   n_num  train_loss  test_loss  train_metric  test_metric\n",
              "7    128    0.437369   0.470678      0.847183       0.8345\n",
              "6     64    0.439606   0.474134      0.847100       0.8335\n",
              "5     32    0.441727   0.477250      0.846717       0.8328\n",
              "8    256    0.443918   0.478793      0.843867       0.8293\n",
              "9    512    0.447945   0.483081      0.842933       0.8287\n",
              "4     16    0.456498   0.493037      0.842250       0.8277\n",
              "3      8    0.504180   0.534430      0.827900       0.8152\n",
              "2      4    0.573212   0.605351      0.796450       0.7846\n",
              "1      2    1.174707   1.187957      0.526783       0.5264\n",
              "0      1    1.599743   1.607179      0.305900       0.3050"
            ],
            "text/html": [
              "\n",
              "  <div id=\"df-d1017b67-fda2-4e21-8373-0899d690fe02\">\n",
              "    <div class=\"colab-df-container\">\n",
              "      <div>\n",
              "<style scoped>\n",
              "    .dataframe tbody tr th:only-of-type {\n",
              "        vertical-align: middle;\n",
              "    }\n",
              "\n",
              "    .dataframe tbody tr th {\n",
              "        vertical-align: top;\n",
              "    }\n",
              "\n",
              "    .dataframe thead th {\n",
              "        text-align: right;\n",
              "    }\n",
              "</style>\n",
              "<table border=\"1\" class=\"dataframe\">\n",
              "  <thead>\n",
              "    <tr style=\"text-align: right;\">\n",
              "      <th></th>\n",
              "      <th>n_num</th>\n",
              "      <th>train_loss</th>\n",
              "      <th>test_loss</th>\n",
              "      <th>train_metric</th>\n",
              "      <th>test_metric</th>\n",
              "    </tr>\n",
              "  </thead>\n",
              "  <tbody>\n",
              "    <tr>\n",
              "      <th>7</th>\n",
              "      <td>128</td>\n",
              "      <td>0.437369</td>\n",
              "      <td>0.470678</td>\n",
              "      <td>0.847183</td>\n",
              "      <td>0.8345</td>\n",
              "    </tr>\n",
              "    <tr>\n",
              "      <th>6</th>\n",
              "      <td>64</td>\n",
              "      <td>0.439606</td>\n",
              "      <td>0.474134</td>\n",
              "      <td>0.847100</td>\n",
              "      <td>0.8335</td>\n",
              "    </tr>\n",
              "    <tr>\n",
              "      <th>5</th>\n",
              "      <td>32</td>\n",
              "      <td>0.441727</td>\n",
              "      <td>0.477250</td>\n",
              "      <td>0.846717</td>\n",
              "      <td>0.8328</td>\n",
              "    </tr>\n",
              "    <tr>\n",
              "      <th>8</th>\n",
              "      <td>256</td>\n",
              "      <td>0.443918</td>\n",
              "      <td>0.478793</td>\n",
              "      <td>0.843867</td>\n",
              "      <td>0.8293</td>\n",
              "    </tr>\n",
              "    <tr>\n",
              "      <th>9</th>\n",
              "      <td>512</td>\n",
              "      <td>0.447945</td>\n",
              "      <td>0.483081</td>\n",
              "      <td>0.842933</td>\n",
              "      <td>0.8287</td>\n",
              "    </tr>\n",
              "    <tr>\n",
              "      <th>4</th>\n",
              "      <td>16</td>\n",
              "      <td>0.456498</td>\n",
              "      <td>0.493037</td>\n",
              "      <td>0.842250</td>\n",
              "      <td>0.8277</td>\n",
              "    </tr>\n",
              "    <tr>\n",
              "      <th>3</th>\n",
              "      <td>8</td>\n",
              "      <td>0.504180</td>\n",
              "      <td>0.534430</td>\n",
              "      <td>0.827900</td>\n",
              "      <td>0.8152</td>\n",
              "    </tr>\n",
              "    <tr>\n",
              "      <th>2</th>\n",
              "      <td>4</td>\n",
              "      <td>0.573212</td>\n",
              "      <td>0.605351</td>\n",
              "      <td>0.796450</td>\n",
              "      <td>0.7846</td>\n",
              "    </tr>\n",
              "    <tr>\n",
              "      <th>1</th>\n",
              "      <td>2</td>\n",
              "      <td>1.174707</td>\n",
              "      <td>1.187957</td>\n",
              "      <td>0.526783</td>\n",
              "      <td>0.5264</td>\n",
              "    </tr>\n",
              "    <tr>\n",
              "      <th>0</th>\n",
              "      <td>1</td>\n",
              "      <td>1.599743</td>\n",
              "      <td>1.607179</td>\n",
              "      <td>0.305900</td>\n",
              "      <td>0.3050</td>\n",
              "    </tr>\n",
              "  </tbody>\n",
              "</table>\n",
              "</div>\n",
              "      <button class=\"colab-df-convert\" onclick=\"convertToInteractive('df-d1017b67-fda2-4e21-8373-0899d690fe02')\"\n",
              "              title=\"Convert this dataframe to an interactive table.\"\n",
              "              style=\"display:none;\">\n",
              "        \n",
              "  <svg xmlns=\"http://www.w3.org/2000/svg\" height=\"24px\"viewBox=\"0 0 24 24\"\n",
              "       width=\"24px\">\n",
              "    <path d=\"M0 0h24v24H0V0z\" fill=\"none\"/>\n",
              "    <path d=\"M18.56 5.44l.94 2.06.94-2.06 2.06-.94-2.06-.94-.94-2.06-.94 2.06-2.06.94zm-11 1L8.5 8.5l.94-2.06 2.06-.94-2.06-.94L8.5 2.5l-.94 2.06-2.06.94zm10 10l.94 2.06.94-2.06 2.06-.94-2.06-.94-.94-2.06-.94 2.06-2.06.94z\"/><path d=\"M17.41 7.96l-1.37-1.37c-.4-.4-.92-.59-1.43-.59-.52 0-1.04.2-1.43.59L10.3 9.45l-7.72 7.72c-.78.78-.78 2.05 0 2.83L4 21.41c.39.39.9.59 1.41.59.51 0 1.02-.2 1.41-.59l7.78-7.78 2.81-2.81c.8-.78.8-2.07 0-2.86zM5.41 20L4 18.59l7.72-7.72 1.47 1.35L5.41 20z\"/>\n",
              "  </svg>\n",
              "      </button>\n",
              "      \n",
              "  <style>\n",
              "    .colab-df-container {\n",
              "      display:flex;\n",
              "      flex-wrap:wrap;\n",
              "      gap: 12px;\n",
              "    }\n",
              "\n",
              "    .colab-df-convert {\n",
              "      background-color: #E8F0FE;\n",
              "      border: none;\n",
              "      border-radius: 50%;\n",
              "      cursor: pointer;\n",
              "      display: none;\n",
              "      fill: #1967D2;\n",
              "      height: 32px;\n",
              "      padding: 0 0 0 0;\n",
              "      width: 32px;\n",
              "    }\n",
              "\n",
              "    .colab-df-convert:hover {\n",
              "      background-color: #E2EBFA;\n",
              "      box-shadow: 0px 1px 2px rgba(60, 64, 67, 0.3), 0px 1px 3px 1px rgba(60, 64, 67, 0.15);\n",
              "      fill: #174EA6;\n",
              "    }\n",
              "\n",
              "    [theme=dark] .colab-df-convert {\n",
              "      background-color: #3B4455;\n",
              "      fill: #D2E3FC;\n",
              "    }\n",
              "\n",
              "    [theme=dark] .colab-df-convert:hover {\n",
              "      background-color: #434B5C;\n",
              "      box-shadow: 0px 1px 3px 1px rgba(0, 0, 0, 0.15);\n",
              "      filter: drop-shadow(0px 1px 2px rgba(0, 0, 0, 0.3));\n",
              "      fill: #FFFFFF;\n",
              "    }\n",
              "  </style>\n",
              "\n",
              "      <script>\n",
              "        const buttonEl =\n",
              "          document.querySelector('#df-d1017b67-fda2-4e21-8373-0899d690fe02 button.colab-df-convert');\n",
              "        buttonEl.style.display =\n",
              "          google.colab.kernel.accessAllowed ? 'block' : 'none';\n",
              "\n",
              "        async function convertToInteractive(key) {\n",
              "          const element = document.querySelector('#df-d1017b67-fda2-4e21-8373-0899d690fe02');\n",
              "          const dataTable =\n",
              "            await google.colab.kernel.invokeFunction('convertToInteractive',\n",
              "                                                     [key], {});\n",
              "          if (!dataTable) return;\n",
              "\n",
              "          const docLinkHtml = 'Like what you see? Visit the ' +\n",
              "            '<a target=\"_blank\" href=https://colab.research.google.com/notebooks/data_table.ipynb>data table notebook</a>'\n",
              "            + ' to learn more about interactive tables.';\n",
              "          element.innerHTML = '';\n",
              "          dataTable['output_type'] = 'display_data';\n",
              "          await google.colab.output.renderOutput(dataTable, element);\n",
              "          const docLink = document.createElement('div');\n",
              "          docLink.innerHTML = docLinkHtml;\n",
              "          element.appendChild(docLink);\n",
              "        }\n",
              "      </script>\n",
              "    </div>\n",
              "  </div>\n",
              "  "
            ]
          },
          "metadata": {},
          "execution_count": 19
        }
      ]
    },
    {
      "cell_type": "code",
      "source": [
        "# Демонстрация полученных результатов\n",
        "# Диаграмма точности в зависимости от обучения\n",
        "plt.figure(figsize=(16, 5))\n",
        "plt.plot(results_num['n_num'],results_num['train_loss'], label='train')\n",
        "plt.plot(results_num['n_num'],results_num['test_loss'], label='test')\n",
        "plt.xlabel('Обучение')\n",
        "plt.ylabel('Ошибка')\n",
        "plt.legend()\n",
        "plt.show()\n",
        "\n",
        "plt.figure(figsize=(16, 5))\n",
        "plt.plot(results_num['n_num'],results_num['train_metric'], label='train')\n",
        "plt.plot(results_num['n_num'],results_num['test_metric'], label='test')\n",
        "plt.xlabel('Число нейронов скрытого слоя')\n",
        "plt.ylabel('Accuracy')\n",
        "plt.legend()\n",
        "plt.show()"
      ],
      "metadata": {
        "colab": {
          "base_uri": "https://localhost:8080/",
          "height": 651
        },
        "id": "8yoElsOqToan",
        "outputId": "01676dec-d982-4fa7-cc5b-1e3c2526226c"
      },
      "execution_count": null,
      "outputs": [
        {
          "output_type": "display_data",
          "data": {
            "text/plain": [
              "<Figure size 1152x360 with 1 Axes>"
            ],
            "image/png": "[encoded data removed]"
          },
          "metadata": {
            "needs_background": "light"
          }
        },
        {
          "output_type": "display_data",
          "data": {
            "text/plain": [
              "<Figure size 1152x360 with 1 Axes>"
            ],
            "image/png": "[encoded data removed]"
          },
          "metadata": {
            "needs_background": "light"
          }
        }
      ]
    },
    {
      "cell_type": "markdown",
      "source": [
        "Наилучшими оказались результаты:\n",
        "\n",
        "128\tнейронов скрытого слоя. Метрика accuracy на тесте -\t0.8343\n",
        "\n",
        "Тенденция такая - сначала accuracy растет, потом чуть снижается и остается практически неизменной.\n"
      ],
      "metadata": {
        "id": "ILs4_wBtT-l0"
      }
    },
    {
      "cell_type": "markdown",
      "source": [
        "Изучим параметры сети в зависимости от числа слоев (2, 3, 5, 10) при близких размерах сети (близкое число тренируемых параметров)."
      ],
      "metadata": {
        "id": "82e9fWV6Z3So"
      }
    },
    {
      "cell_type": "code",
      "source": [
        "%%time\n",
        "results_layers = pd.DataFrame()\n",
        "n_nums = [] # число нейронов скрытых слоев\n",
        "n_layers = [] # число скрытых слоев\n",
        "n_pars = [] # число тренируемых параметров\n",
        "train_losses = [] # ошибка на тренировочной выборке\n",
        "test_losses = [] # ошибка на тестовой выборке\n",
        "train_metrics = [] # accuracy на тренировочной выборке\n",
        "test_metrics = [] # accuracy на тестовой выборке\n",
        "\n",
        "# Базовый размер возьмем для двухслойной сети с 128 нейронами, и будем равняться на него\n",
        "k_dict = {2:128, 3:67, 5:45, 10:30}\n",
        "for n in [2, 3, 5, 10]:\n",
        "    \n",
        "    k = k_dict[n]\n",
        "    net_size = 64 * 785 + 65 * k + (n - 2) * (k + 1) * k + (k + 1) * 10\n",
        "    n_nums.append(k) \n",
        "    n_pars.append(net_size)\n",
        "    n_layers.append(n)\n",
        "    \n",
        "    tf.random.set_seed(1)\n",
        "    model = Sequential()\n",
        "    model.add(Dense(64, input_shape=(28 * 28,), activation='relu'))\n",
        "    for i in range(n-1):\n",
        "        model.add(Dense(k, activation='relu'))\n",
        "    model.add(Dense(10, activation='sigmoid'))\n",
        "\n",
        "    model.summary()\n",
        "    \n",
        "    # Компиляция модели\n",
        "    model.compile(loss='categorical_crossentropy', optimizer='SGD', metrics=['accuracy'])\n",
        "    \n",
        "    history = model.fit(X_train, y_train,\n",
        "                    epochs=5,\n",
        "                    batch_size=64,\n",
        "                    verbose=1,\n",
        "                    validation_data=(X_test, y_test)\n",
        "                    )\n",
        "    train_acc = history.history['accuracy']\n",
        "    val_acc = history.history['val_accuracy']\n",
        "    \n",
        "    train_loss, train_metric = model.evaluate(X_train, y_train, batch_size=64)\n",
        "    train_losses.append(train_loss)\n",
        "    train_metrics.append(train_metric)\n",
        "    test_loss, test_metric = model.evaluate(X_test, y_test, batch_size=64)\n",
        "    test_losses.append(test_loss)\n",
        "    test_metrics.append(test_metric)\n",
        "    \n",
        "    \n",
        "results_layers['n_layer'] = n_layers\n",
        "results_layers['n_num'] = n_nums\n",
        "results_layers['n_par'] = n_pars\n",
        "results_layers['train_loss'] = train_losses\n",
        "results_layers['test_loss'] = test_losses\n",
        "results_layers['train_metric'] = train_metrics\n",
        "results_layers['test_metric'] = test_metrics\n",
        "results_layers.sort_values(by='test_metric', ascending=False)"
      ],
      "metadata": {
        "colab": {
          "base_uri": "https://localhost:8080/",
          "height": 1000
        },
        "id": "oTgoR01VT3zB",
        "outputId": "7cfd5ac1-50ea-4b59-fcfd-cc9f24bb8ad8"
      },
      "execution_count": null,
      "outputs": [
        {
          "output_type": "stream",
          "name": "stdout",
          "text": [
            "Model: \"sequential_10\"\n",
            "_________________________________________________________________\n",
            " Layer (type)                Output Shape              Param #   \n",
            "=================================================================\n",
            " dense_30 (Dense)            (None, 64)                50240     \n",
            "                                                                 \n",
            " dense_31 (Dense)            (None, 128)               8320      \n",
            "                                                                 \n",
            " dense_32 (Dense)            (None, 10)                1290      \n",
            "                                                                 \n",
            "=================================================================\n",
            "Total params: 59,850\n",
            "Trainable params: 59,850\n",
            "Non-trainable params: 0\n",
            "_________________________________________________________________\n",
            "Epoch 1/5\n",
            "938/938 [==============================] - 4s 3ms/step - loss: 0.9934 - accuracy: 0.6771 - val_loss: 0.6851 - val_accuracy: 0.7590\n",
            "Epoch 2/5\n",
            "938/938 [==============================] - 3s 3ms/step - loss: 0.5862 - accuracy: 0.8010 - val_loss: 0.5570 - val_accuracy: 0.8106\n",
            "Epoch 3/5\n",
            "938/938 [==============================] - 3s 3ms/step - loss: 0.5173 - accuracy: 0.8220 - val_loss: 0.5719 - val_accuracy: 0.7934\n",
            "Epoch 4/5\n",
            "938/938 [==============================] - 3s 3ms/step - loss: 0.4837 - accuracy: 0.8325 - val_loss: 0.5011 - val_accuracy: 0.8274\n",
            "Epoch 5/5\n",
            "938/938 [==============================] - 3s 4ms/step - loss: 0.4601 - accuracy: 0.8394 - val_loss: 0.4767 - val_accuracy: 0.8317\n",
            "938/938 [==============================] - 2s 3ms/step - loss: 0.4444 - accuracy: 0.8447\n",
            "157/157 [==============================] - 0s 3ms/step - loss: 0.4767 - accuracy: 0.8317\n",
            "Model: \"sequential_11\"\n",
            "_________________________________________________________________\n",
            " Layer (type)                Output Shape              Param #   \n",
            "=================================================================\n",
            " dense_33 (Dense)            (None, 64)                50240     \n",
            "                                                                 \n",
            " dense_34 (Dense)            (None, 67)                4355      \n",
            "                                                                 \n",
            " dense_35 (Dense)            (None, 67)                4556      \n",
            "                                                                 \n",
            " dense_36 (Dense)            (None, 10)                680       \n",
            "                                                                 \n",
            "=================================================================\n",
            "Total params: 59,831\n",
            "Trainable params: 59,831\n",
            "Non-trainable params: 0\n",
            "_________________________________________________________________\n",
            "Epoch 1/5\n",
            "938/938 [==============================] - 4s 4ms/step - loss: 1.0253 - accuracy: 0.6457 - val_loss: 0.6832 - val_accuracy: 0.7588\n",
            "Epoch 2/5\n",
            "938/938 [==============================] - 3s 4ms/step - loss: 0.5868 - accuracy: 0.7961 - val_loss: 0.5587 - val_accuracy: 0.8075\n",
            "Epoch 3/5\n",
            "938/938 [==============================] - 3s 3ms/step - loss: 0.5136 - accuracy: 0.8224 - val_loss: 0.5694 - val_accuracy: 0.7987\n",
            "Epoch 4/5\n",
            "938/938 [==============================] - 3s 3ms/step - loss: 0.4755 - accuracy: 0.8346 - val_loss: 0.4938 - val_accuracy: 0.8268\n",
            "Epoch 5/5\n",
            "938/938 [==============================] - 3s 4ms/step - loss: 0.4496 - accuracy: 0.8431 - val_loss: 0.4641 - val_accuracy: 0.8376\n",
            "938/938 [==============================] - 2s 3ms/step - loss: 0.4302 - accuracy: 0.8505\n",
            "157/157 [==============================] - 0s 3ms/step - loss: 0.4641 - accuracy: 0.8376\n",
            "Model: \"sequential_12\"\n",
            "_________________________________________________________________\n",
            " Layer (type)                Output Shape              Param #   \n",
            "=================================================================\n",
            " dense_37 (Dense)            (None, 64)                50240     \n",
            "                                                                 \n",
            " dense_38 (Dense)            (None, 45)                2925      \n",
            "                                                                 \n",
            " dense_39 (Dense)            (None, 45)                2070      \n",
            "                                                                 \n",
            " dense_40 (Dense)            (None, 45)                2070      \n",
            "                                                                 \n",
            " dense_41 (Dense)            (None, 45)                2070      \n",
            "                                                                 \n",
            " dense_42 (Dense)            (None, 10)                460       \n",
            "                                                                 \n",
            "=================================================================\n",
            "Total params: 59,835\n",
            "Trainable params: 59,835\n",
            "Non-trainable params: 0\n",
            "_________________________________________________________________\n",
            "Epoch 1/5\n",
            "938/938 [==============================] - 4s 4ms/step - loss: 1.2650 - accuracy: 0.5623 - val_loss: 0.7127 - val_accuracy: 0.7426\n",
            "Epoch 2/5\n",
            "938/938 [==============================] - 4s 4ms/step - loss: 0.6226 - accuracy: 0.7776 - val_loss: 0.6038 - val_accuracy: 0.7891\n",
            "Epoch 3/5\n",
            "938/938 [==============================] - 4s 4ms/step - loss: 0.5376 - accuracy: 0.8091 - val_loss: 0.6007 - val_accuracy: 0.7752\n",
            "Epoch 4/5\n",
            "938/938 [==============================] - 4s 4ms/step - loss: 0.4927 - accuracy: 0.8249 - val_loss: 0.5272 - val_accuracy: 0.8089\n",
            "Epoch 5/5\n",
            "938/938 [==============================] - 4s 4ms/step - loss: 0.4583 - accuracy: 0.8371 - val_loss: 0.5102 - val_accuracy: 0.8125\n",
            "938/938 [==============================] - 2s 3ms/step - loss: 0.4676 - accuracy: 0.8286\n",
            "157/157 [==============================] - 0s 3ms/step - loss: 0.5102 - accuracy: 0.8125\n",
            "Model: \"sequential_13\"\n",
            "_________________________________________________________________\n",
            " Layer (type)                Output Shape              Param #   \n",
            "=================================================================\n",
            " dense_43 (Dense)            (None, 64)                50240     \n",
            "                                                                 \n",
            " dense_44 (Dense)            (None, 30)                1950      \n",
            "                                                                 \n",
            " dense_45 (Dense)            (None, 30)                930       \n",
            "                                                                 \n",
            " dense_46 (Dense)            (None, 30)                930       \n",
            "                                                                 \n",
            " dense_47 (Dense)            (None, 30)                930       \n",
            "                                                                 \n",
            " dense_48 (Dense)            (None, 30)                930       \n",
            "                                                                 \n",
            " dense_49 (Dense)            (None, 30)                930       \n",
            "                                                                 \n",
            " dense_50 (Dense)            (None, 30)                930       \n",
            "                                                                 \n",
            " dense_51 (Dense)            (None, 30)                930       \n",
            "                                                                 \n",
            " dense_52 (Dense)            (None, 30)                930       \n",
            "                                                                 \n",
            " dense_53 (Dense)            (None, 10)                310       \n",
            "                                                                 \n",
            "=================================================================\n",
            "Total params: 59,940\n",
            "Trainable params: 59,940\n",
            "Non-trainable params: 0\n",
            "_________________________________________________________________\n",
            "Epoch 1/5\n",
            "938/938 [==============================] - 5s 4ms/step - loss: 2.0014 - accuracy: 0.2336 - val_loss: 1.4467 - val_accuracy: 0.4091\n",
            "Epoch 2/5\n",
            "938/938 [==============================] - 4s 4ms/step - loss: 1.0567 - accuracy: 0.5750 - val_loss: 1.2371 - val_accuracy: 0.5560\n",
            "Epoch 3/5\n",
            "938/938 [==============================] - 4s 4ms/step - loss: 0.8151 - accuracy: 0.6923 - val_loss: 0.9355 - val_accuracy: 0.6321\n",
            "Epoch 4/5\n",
            "938/938 [==============================] - 4s 4ms/step - loss: 0.6786 - accuracy: 0.7524 - val_loss: 0.7197 - val_accuracy: 0.7405\n",
            "Epoch 5/5\n",
            "938/938 [==============================] - 4s 4ms/step - loss: 0.5864 - accuracy: 0.7890 - val_loss: 0.5704 - val_accuracy: 0.7973\n",
            "938/938 [==============================] - 3s 3ms/step - loss: 0.5329 - accuracy: 0.8143\n",
            "157/157 [==============================] - 0s 3ms/step - loss: 0.5704 - accuracy: 0.7973\n",
            "CPU times: user 1min 31s, sys: 10.7 s, total: 1min 42s\n",
            "Wall time: 1min 30s\n"
          ]
        },
        {
          "output_type": "execute_result",
          "data": {
            "text/plain": [
              "   n_layer  n_num  n_par  train_loss  test_loss  train_metric  test_metric\n",
              "1        3     67  59831    0.430229   0.464135      0.850550       0.8376\n",
              "0        2    128  59850    0.444381   0.476746      0.844667       0.8317\n",
              "2        5     45  59835    0.467649   0.510164      0.828650       0.8125\n",
              "3       10     30  59940    0.532947   0.570371      0.814283       0.7973"
            ],
            "text/html": [
              "\n",
              "  <div id=\"df-2386f90a-051d-4e49-b565-b4cf0075b46e\">\n",
              "    <div class=\"colab-df-container\">\n",
              "      <div>\n",
              "<style scoped>\n",
              "    .dataframe tbody tr th:only-of-type {\n",
              "        vertical-align: middle;\n",
              "    }\n",
              "\n",
              "    .dataframe tbody tr th {\n",
              "        vertical-align: top;\n",
              "    }\n",
              "\n",
              "    .dataframe thead th {\n",
              "        text-align: right;\n",
              "    }\n",
              "</style>\n",
              "<table border=\"1\" class=\"dataframe\">\n",
              "  <thead>\n",
              "    <tr style=\"text-align: right;\">\n",
              "      <th></th>\n",
              "      <th>n_layer</th>\n",
              "      <th>n_num</th>\n",
              "      <th>n_par</th>\n",
              "      <th>train_loss</th>\n",
              "      <th>test_loss</th>\n",
              "      <th>train_metric</th>\n",
              "      <th>test_metric</th>\n",
              "    </tr>\n",
              "  </thead>\n",
              "  <tbody>\n",
              "    <tr>\n",
              "      <th>1</th>\n",
              "      <td>3</td>\n",
              "      <td>67</td>\n",
              "      <td>59831</td>\n",
              "      <td>0.430229</td>\n",
              "      <td>0.464135</td>\n",
              "      <td>0.850550</td>\n",
              "      <td>0.8376</td>\n",
              "    </tr>\n",
              "    <tr>\n",
              "      <th>0</th>\n",
              "      <td>2</td>\n",
              "      <td>128</td>\n",
              "      <td>59850</td>\n",
              "      <td>0.444381</td>\n",
              "      <td>0.476746</td>\n",
              "      <td>0.844667</td>\n",
              "      <td>0.8317</td>\n",
              "    </tr>\n",
              "    <tr>\n",
              "      <th>2</th>\n",
              "      <td>5</td>\n",
              "      <td>45</td>\n",
              "      <td>59835</td>\n",
              "      <td>0.467649</td>\n",
              "      <td>0.510164</td>\n",
              "      <td>0.828650</td>\n",
              "      <td>0.8125</td>\n",
              "    </tr>\n",
              "    <tr>\n",
              "      <th>3</th>\n",
              "      <td>10</td>\n",
              "      <td>30</td>\n",
              "      <td>59940</td>\n",
              "      <td>0.532947</td>\n",
              "      <td>0.570371</td>\n",
              "      <td>0.814283</td>\n",
              "      <td>0.7973</td>\n",
              "    </tr>\n",
              "  </tbody>\n",
              "</table>\n",
              "</div>\n",
              "      <button class=\"colab-df-convert\" onclick=\"convertToInteractive('df-2386f90a-051d-4e49-b565-b4cf0075b46e')\"\n",
              "              title=\"Convert this dataframe to an interactive table.\"\n",
              "              style=\"display:none;\">\n",
              "        \n",
              "  <svg xmlns=\"http://www.w3.org/2000/svg\" height=\"24px\"viewBox=\"0 0 24 24\"\n",
              "       width=\"24px\">\n",
              "    <path d=\"M0 0h24v24H0V0z\" fill=\"none\"/>\n",
              "    <path d=\"M18.56 5.44l.94 2.06.94-2.06 2.06-.94-2.06-.94-.94-2.06-.94 2.06-2.06.94zm-11 1L8.5 8.5l.94-2.06 2.06-.94-2.06-.94L8.5 2.5l-.94 2.06-2.06.94zm10 10l.94 2.06.94-2.06 2.06-.94-2.06-.94-.94-2.06-.94 2.06-2.06.94z\"/><path d=\"M17.41 7.96l-1.37-1.37c-.4-.4-.92-.59-1.43-.59-.52 0-1.04.2-1.43.59L10.3 9.45l-7.72 7.72c-.78.78-.78 2.05 0 2.83L4 21.41c.39.39.9.59 1.41.59.51 0 1.02-.2 1.41-.59l7.78-7.78 2.81-2.81c.8-.78.8-2.07 0-2.86zM5.41 20L4 18.59l7.72-7.72 1.47 1.35L5.41 20z\"/>\n",
              "  </svg>\n",
              "      </button>\n",
              "      \n",
              "  <style>\n",
              "    .colab-df-container {\n",
              "      display:flex;\n",
              "      flex-wrap:wrap;\n",
              "      gap: 12px;\n",
              "    }\n",
              "\n",
              "    .colab-df-convert {\n",
              "      background-color: #E8F0FE;\n",
              "      border: none;\n",
              "      border-radius: 50%;\n",
              "      cursor: pointer;\n",
              "      display: none;\n",
              "      fill: #1967D2;\n",
              "      height: 32px;\n",
              "      padding: 0 0 0 0;\n",
              "      width: 32px;\n",
              "    }\n",
              "\n",
              "    .colab-df-convert:hover {\n",
              "      background-color: #E2EBFA;\n",
              "      box-shadow: 0px 1px 2px rgba(60, 64, 67, 0.3), 0px 1px 3px 1px rgba(60, 64, 67, 0.15);\n",
              "      fill: #174EA6;\n",
              "    }\n",
              "\n",
              "    [theme=dark] .colab-df-convert {\n",
              "      background-color: #3B4455;\n",
              "      fill: #D2E3FC;\n",
              "    }\n",
              "\n",
              "    [theme=dark] .colab-df-convert:hover {\n",
              "      background-color: #434B5C;\n",
              "      box-shadow: 0px 1px 3px 1px rgba(0, 0, 0, 0.15);\n",
              "      filter: drop-shadow(0px 1px 2px rgba(0, 0, 0, 0.3));\n",
              "      fill: #FFFFFF;\n",
              "    }\n",
              "  </style>\n",
              "\n",
              "      <script>\n",
              "        const buttonEl =\n",
              "          document.querySelector('#df-2386f90a-051d-4e49-b565-b4cf0075b46e button.colab-df-convert');\n",
              "        buttonEl.style.display =\n",
              "          google.colab.kernel.accessAllowed ? 'block' : 'none';\n",
              "\n",
              "        async function convertToInteractive(key) {\n",
              "          const element = document.querySelector('#df-2386f90a-051d-4e49-b565-b4cf0075b46e');\n",
              "          const dataTable =\n",
              "            await google.colab.kernel.invokeFunction('convertToInteractive',\n",
              "                                                     [key], {});\n",
              "          if (!dataTable) return;\n",
              "\n",
              "          const docLinkHtml = 'Like what you see? Visit the ' +\n",
              "            '<a target=\"_blank\" href=https://colab.research.google.com/notebooks/data_table.ipynb>data table notebook</a>'\n",
              "            + ' to learn more about interactive tables.';\n",
              "          element.innerHTML = '';\n",
              "          dataTable['output_type'] = 'display_data';\n",
              "          await google.colab.output.renderOutput(dataTable, element);\n",
              "          const docLink = document.createElement('div');\n",
              "          docLink.innerHTML = docLinkHtml;\n",
              "          element.appendChild(docLink);\n",
              "        }\n",
              "      </script>\n",
              "    </div>\n",
              "  </div>\n",
              "  "
            ]
          },
          "metadata": {},
          "execution_count": 21
        }
      ]
    },
    {
      "cell_type": "code",
      "source": [],
      "metadata": {
        "id": "Cm-bvOSksSmU"
      },
      "execution_count": null,
      "outputs": []
    },
    {
      "cell_type": "code",
      "execution_count": null,
      "metadata": {
        "colab": {
          "base_uri": "https://localhost:8080/",
          "height": 651
        },
        "id": "appointed-syntax",
        "outputId": "d7ea87e9-c542-454f-9d92-b6f484245601"
      },
      "outputs": [
        {
          "output_type": "display_data",
          "data": {
            "text/plain": [
              "<Figure size 1152x360 with 1 Axes>"
            ],
            "image/png": "[encoded data removed]"
          },
          "metadata": {
            "needs_background": "light"
          }
        },
        {
          "output_type": "display_data",
          "data": {
            "text/plain": [
              "<Figure size 1152x360 with 1 Axes>"
            ],
            "image/png": "[encoded data removed]"
          },
          "metadata": {
            "needs_background": "light"
          }
        }
      ],
      "source": [
        "# Демонстрация полученных результатов\n",
        "# Диаграмма точности в зависимости от обучения\n",
        "plt.figure(figsize=(16, 5))\n",
        "plt.plot(results_layers['n_layer'],results_layers['train_loss'], label='train')\n",
        "plt.plot(results_layers['n_layer'],results_layers['test_loss'], label='test')\n",
        "plt.xlabel('Обучение')\n",
        "plt.ylabel('Ошибка')\n",
        "plt.show()\n",
        "\n",
        "plt.figure(figsize=(16, 5))\n",
        "plt.plot(results_layers['n_layer'],results_layers['train_metric'], label='train')\n",
        "plt.plot(results_layers['n_layer'],results_layers['test_metric'], label='test')\n",
        "plt.xlabel('Число слоев')\n",
        "plt.ylabel('Accuracy')\n",
        "plt.show()"
      ]
    },
    {
      "cell_type": "markdown",
      "source": [
        "Наилучшими параметрами оказались:\n",
        "\n",
        "3 слоя,\t67 нейронов скрытого слоя, метрика на тесте -\t0.8376"
      ],
      "metadata": {
        "id": "k_UJ2_GOri2q"
      }
    },
    {
      "cell_type": "markdown",
      "source": [
        "Задание 2.\n",
        "\n",
        "2.  Проверьте работу разных оптимизаторов (SGD, Adam, RMSProp) для одной из моделей п.1. Фиксируйте для тренировочного и тестового набора метрики accuracy."
      ],
      "metadata": {
        "id": "zFCmZt4ysDPB"
      }
    },
    {
      "cell_type": "markdown",
      "source": [
        "Лучшей оказалась модель с 3 слоями и 67 нейронами.\n",
        "Посмотрим работу разных оптимизаторов (SGD, Adam, RMSProp) для этой модели."
      ],
      "metadata": {
        "id": "eAInh-dktGmF"
      }
    },
    {
      "cell_type": "code",
      "source": [
        "%%time\n",
        "\n",
        "# создаем модель model\n",
        "tf.random.set_seed(1)\n",
        "model = Sequential([\n",
        "    Dense(64, activation='relu', input_shape=(28 * 28,)),\n",
        "    Dense(67, activation='relu'),\n",
        "    Dense(67, activation='relu'),\n",
        "    Dense(10, activation='sigmoid'),\n",
        "])\n",
        "\n",
        "# сохраняем ее веса (это начальная точка) model.save_weights('model.h5')\n",
        "model.save_weights('model_weights.h5')\n",
        "\n",
        "# будем сохранять модели в словарь\n",
        "models = {}\n",
        "\n",
        "plt.figure(figsize=(16, 7))\n",
        "colors = ['g', 'b', 'r']\n",
        "\n",
        "num_epochs = 5\n",
        "batch_size = 64\n",
        "\n",
        "# вектор для вывода результатов\n",
        "epoch = np.arange(num_epochs+1)\n",
        "\n",
        "# будем изменять оптимизаторы\n",
        "for i, i_optim in enumerate([keras.optimizers.gradient_descent_v2.SGD(),\n",
        "                             keras.optimizers.rmsprop_v2.RMSprop(),\n",
        "                             keras.optimizers.adam_v2.Adam()]):\n",
        "    print(f'Оптимизатор: {i_optim.get_config()[\"name\"]}')\n",
        "    \n",
        "    # создаем рабочую модель  model_i, куда будем загружать эти веса (она должна быть идентичной структуры)\n",
        "    model_i = Sequential([\n",
        "      Dense(64, activation='relu', input_shape=(28 * 28,)),\n",
        "      Dense(67, activation='relu'),\n",
        "      Dense(67, activation='relu'),\n",
        "      Dense(10, activation='sigmoid'),\n",
        "    ])\n",
        "    \n",
        "    # загружаем веса model_i.load_weights('model.h5')\n",
        "    model_i.load_weights('model_weights.h5')\n",
        "    \n",
        "    # компилируем model_i с одним из оптимизаторов\n",
        "    model_i.compile(\n",
        "        optimizer=i_optim,\n",
        "        loss='categorical_crossentropy',\n",
        "        metrics=['accuracy'],\n",
        "        )\n",
        "    \n",
        "    # вычисляем ошибку для modeli без обучения\n",
        "    h0_train = model_i.evaluate(X_train, y_train, verbose=0)\n",
        "    h0_val = model_i.evaluate(X_test, y_test, verbose=0)\n",
        "\n",
        "    # проводим обучение модели \n",
        "    h = model_i.fit(X_train, y_train,\n",
        "                    epochs=num_epochs,\n",
        "                    batch_size=batch_size,\n",
        "                    validation_data=(X_test, y_test),\n",
        "                    verbose=1)\n",
        "    \n",
        "    # вычисляем ошибку для modeli после обучения\n",
        "    loss, metric = model_i.evaluate(X_test, y_test, batch_size=64)\n",
        "    print(f'Качество на тесте: {loss}, {metric}')\n",
        "    \n",
        "    # записываем обученную модель в словарь\n",
        "    models[i_optim.get_config()['name']] = model_i\n",
        "\n",
        "    \n",
        "    # картинки\n",
        "    '''\n",
        "    plt.figure(figsize=(16, 7))\n",
        "    plt.plot(epoch, np.log([h0_train[0]] + h.history['loss']),\n",
        "             '-', c=colors[i],\n",
        "             label=model_i.optimizer.get_config()['name'] + ' train')\n",
        "    plt.plot(epoch, np.log([h0_val[0]] + h.history['val_loss']),\n",
        "             '--', c=colors[i],\n",
        "             label=model_i.optimizer.get_config()['name'] + ' val')\n",
        "    '''\n",
        "    \n",
        "    plt.plot(epoch, ([h0_train[0]] + h.history['accuracy']),\n",
        "             '-', c=colors[i],\n",
        "             label=model_i.optimizer.get_config()['name'] + ' train')\n",
        "    plt.plot(epoch, ([h0_val[0]] + h.history['val_accuracy']),\n",
        "             '--', c=colors[i],\n",
        "             label=f'{model_i.optimizer.get_config()[\"name\"]} val {metric:.2f}')\n",
        "\n",
        "plt.legend()\n",
        "plt.title('нейросети от оптимизатора accuracy')\n",
        "plt.xlabel('epoch')\n",
        "plt.ylabel('accuracy')\n",
        "plt.show()"
      ],
      "metadata": {
        "id": "7ItLfFptrZuc",
        "colab": {
          "base_uri": "https://localhost:8080/",
          "height": 1000
        },
        "outputId": "0d1c85b0-6752-4a31-d7cb-62c19b78b17d"
      },
      "execution_count": 23,
      "outputs": [
        {
          "output_type": "stream",
          "name": "stdout",
          "text": [
            "Оптимизатор: SGD\n",
            "Epoch 1/5\n",
            "938/938 [==============================] - 5s 4ms/step - loss: 1.0092 - accuracy: 0.6764 - val_loss: 0.6860 - val_accuracy: 0.7573\n",
            "Epoch 2/5\n",
            "938/938 [==============================] - 4s 4ms/step - loss: 0.5595 - accuracy: 0.8036 - val_loss: 0.5383 - val_accuracy: 0.8137\n",
            "Epoch 3/5\n",
            "938/938 [==============================] - 3s 3ms/step - loss: 0.4974 - accuracy: 0.8245 - val_loss: 0.5487 - val_accuracy: 0.8021\n",
            "Epoch 4/5\n",
            "938/938 [==============================] - 3s 4ms/step - loss: 0.4651 - accuracy: 0.8353 - val_loss: 0.4910 - val_accuracy: 0.8268\n",
            "Epoch 5/5\n",
            "938/938 [==============================] - 3s 4ms/step - loss: 0.4422 - accuracy: 0.8437 - val_loss: 0.4592 - val_accuracy: 0.8350\n",
            "157/157 [==============================] - 0s 3ms/step - loss: 0.4592 - accuracy: 0.8350\n",
            "Качество на тесте: 0.45921415090560913, 0.8349999785423279\n",
            "Оптимизатор: RMSprop\n",
            "Epoch 1/5\n",
            "938/938 [==============================] - 5s 4ms/step - loss: 0.5521 - accuracy: 0.8018 - val_loss: 0.5607 - val_accuracy: 0.8019\n",
            "Epoch 2/5\n",
            "938/938 [==============================] - 4s 4ms/step - loss: 0.3928 - accuracy: 0.8554 - val_loss: 0.4221 - val_accuracy: 0.8472\n",
            "Epoch 3/5\n",
            "938/938 [==============================] - 4s 4ms/step - loss: 0.3554 - accuracy: 0.8702 - val_loss: 0.4382 - val_accuracy: 0.8409\n",
            "Epoch 4/5\n",
            "938/938 [==============================] - 4s 4ms/step - loss: 0.3333 - accuracy: 0.8784 - val_loss: 0.4171 - val_accuracy: 0.8474\n",
            "Epoch 5/5\n",
            "938/938 [==============================] - 4s 4ms/step - loss: 0.3168 - accuracy: 0.8847 - val_loss: 0.3765 - val_accuracy: 0.8695\n",
            "157/157 [==============================] - 0s 3ms/step - loss: 0.3765 - accuracy: 0.8695\n",
            "Качество на тесте: 0.37645959854125977, 0.8694999814033508\n",
            "Оптимизатор: Adam\n",
            "Epoch 1/5\n",
            "938/938 [==============================] - 4s 4ms/step - loss: 0.5326 - accuracy: 0.8131 - val_loss: 0.4441 - val_accuracy: 0.8389\n",
            "Epoch 2/5\n",
            "938/938 [==============================] - 3s 4ms/step - loss: 0.3786 - accuracy: 0.8629 - val_loss: 0.3926 - val_accuracy: 0.8607\n",
            "Epoch 3/5\n",
            "938/938 [==============================] - 4s 4ms/step - loss: 0.3407 - accuracy: 0.8746 - val_loss: 0.3760 - val_accuracy: 0.8644\n",
            "Epoch 4/5\n",
            "938/938 [==============================] - 4s 4ms/step - loss: 0.3238 - accuracy: 0.8804 - val_loss: 0.3670 - val_accuracy: 0.8668\n",
            "Epoch 5/5\n",
            "938/938 [==============================] - 3s 4ms/step - loss: 0.3025 - accuracy: 0.8868 - val_loss: 0.3501 - val_accuracy: 0.8753\n",
            "157/157 [==============================] - 0s 3ms/step - loss: 0.3501 - accuracy: 0.8753\n",
            "Качество на тесте: 0.3500988185405731, 0.8752999901771545\n"
          ]
        },
        {
          "output_type": "display_data",
          "data": {
            "text/plain": [
              "<Figure size 1152x504 with 1 Axes>"
            ],
            "image/png": "[encoded data removed]"
          },
          "metadata": {
            "needs_background": "light"
          }
        },
        {
          "output_type": "stream",
          "name": "stdout",
          "text": [
            "CPU times: user 1min 14s, sys: 8.57 s, total: 1min 23s\n",
            "Wall time: 1min 16s\n"
          ]
        }
      ]
    },
    {
      "cell_type": "markdown",
      "source": [
        "Лучше всего себя показал Adam\n",
        "\n",
        "Качество на тесте: 0.3500988185405731, 0.8752999901771545"
      ],
      "metadata": {
        "id": "RTYS14iqv75m"
      }
    },
    {
      "cell_type": "markdown",
      "source": [
        "Задание 3.\n",
        "\n",
        "3. Сделайте вывод - что помогло вам улучшить качество классификации в нейросети на тестовом наборе? "
      ],
      "metadata": {
        "id": "RutB1g8AwNVD"
      }
    },
    {
      "cell_type": "markdown",
      "source": [
        "Улучшить качество классификации в нейросети на тестовом наборе помогли подбор количетсва слоев и нейронов сети, а также выбор оптимизатора Adam."
      ],
      "metadata": {
        "id": "Tf9ErUoJwTJF"
      }
    },
    {
      "cell_type": "code",
      "source": [
        "model_i = models['Adam']"
      ],
      "metadata": {
        "id": "DPYZr5Hwv6Ut"
      },
      "execution_count": 24,
      "outputs": []
    },
    {
      "cell_type": "code",
      "source": [
        "model_i.optimizer.get_config()"
      ],
      "metadata": {
        "colab": {
          "base_uri": "https://localhost:8080/"
        },
        "id": "TJYX6BQDwr5a",
        "outputId": "b68dba33-0a53-4000-eab2-6383d4343c78"
      },
      "execution_count": 25,
      "outputs": [
        {
          "output_type": "execute_result",
          "data": {
            "text/plain": [
              "{'name': 'Adam',\n",
              " 'learning_rate': 0.001,\n",
              " 'decay': 0.0,\n",
              " 'beta_1': 0.9,\n",
              " 'beta_2': 0.999,\n",
              " 'epsilon': 1e-07,\n",
              " 'amsgrad': False}"
            ]
          },
          "metadata": {},
          "execution_count": 25
        }
      ]
    },
    {
      "cell_type": "code",
      "source": [
        "N = 5\n",
        "y_pred = model_i.predict(X_test[:N, :])\n",
        "y_pred_class = np.argmax(y_pred, axis=1)\n",
        "plt.figure(figsize=(3 * N, 5))\n",
        "\n",
        "for i in range(N):\n",
        "  plt.subplot(1, N, i+1)\n",
        "  plt.imshow(X_test[i,:].reshape(28, 28))\n",
        "  #plt.xlabel(str(y_pred_class[i]))\n",
        "  plt.xlabel(str(class_names[test_labels[i]]))\n",
        "plt.show() "
      ],
      "metadata": {
        "colab": {
          "base_uri": "https://localhost:8080/",
          "height": 225
        },
        "id": "aYulbSIzw0CK",
        "outputId": "e3112436-0caa-4f4b-c155-b898e625054d"
      },
      "execution_count": 29,
      "outputs": [
        {
          "output_type": "stream",
          "name": "stdout",
          "text": [
            "1/1 [==============================] - 0s 17ms/step\n"
          ]
        },
        {
          "output_type": "display_data",
          "data": {
            "text/plain": [
              "<Figure size 1080x360 with 5 Axes>"
            ],
            "image/png": "[encoded data removed]"
          },
          "metadata": {
            "needs_background": "light"
          }
        }
      ]
    },
    {
      "cell_type": "markdown",
      "source": [
        "Задание 4.\n",
        "\n",
        "4. Для одного варианта сети сформируйте матрицу ошибок по классам. Оцените качество модели по каждому классу отдельно (полнота, точность).\n",
        "\n"
      ],
      "metadata": {
        "id": "bu-Yv7aFzA_g"
      }
    },
    {
      "cell_type": "markdown",
      "source": [
        "![image.png](data:image/png;base64,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)"
      ],
      "metadata": {
        "id": "r0dDtQ2G2MHU"
      }
    },
    {
      "cell_type": "markdown",
      "source": [
        "![image.png](data:image/png;base64,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)"
      ],
      "metadata": {
        "id": "3Nhq5vDk2PNy"
      }
    },
    {
      "cell_type": "markdown",
      "source": [
        "Имея матрицу ошибок, очень просто можно вычислить точность и полноту для каждого класса. Точность (precision) равняется отношению соответствующего диагонального элемента матрицы и суммы всей строки класса. Полнота (recall) — отношению диагонального элемента матрицы и суммы всего столбца класса."
      ],
      "metadata": {
        "id": "3ua4q8H818Pl"
      }
    },
    {
      "cell_type": "code",
      "source": [
        "y_pred = model_i.predict(X_test)\n",
        "y_pred_class = np.argmax(y_pred, axis=1)"
      ],
      "metadata": {
        "colab": {
          "base_uri": "https://localhost:8080/"
        },
        "id": "DJbYtlTIzMIL",
        "outputId": "24435382-1761-4a77-fe9c-0b3028ea8fe2"
      },
      "execution_count": 31,
      "outputs": [
        {
          "output_type": "stream",
          "name": "stdout",
          "text": [
            "313/313 [==============================] - 0s 1ms/step\n"
          ]
        }
      ]
    },
    {
      "cell_type": "code",
      "source": [
        "y_pred"
      ],
      "metadata": {
        "colab": {
          "base_uri": "https://localhost:8080/"
        },
        "id": "t3Bk6cY4zjHC",
        "outputId": "3d94c1f5-f724-4996-e10c-43e354d974a1"
      },
      "execution_count": 35,
      "outputs": [
        {
          "output_type": "execute_result",
          "data": {
            "text/plain": [
              "array([1.9950492e-04, 2.0340254e-04, 6.5192836e-04, 2.4140819e-03,\n",
              "       5.3660513e-04, 8.0465168e-01, 5.4485479e-04, 9.0857673e-01,\n",
              "       1.9940757e-03, 9.9845552e-01], dtype=float32)"
            ]
          },
          "metadata": {},
          "execution_count": 35
        }
      ]
    },
    {
      "cell_type": "code",
      "source": [
        "CM = confusion_matrix(test_labels, y_pred_class)\n",
        "print(CM)"
      ],
      "metadata": {
        "colab": {
          "base_uri": "https://localhost:8080/"
        },
        "id": "7qvjXNgozatr",
        "outputId": "f9508b41-4f04-4228-cd7b-3e86374422b1"
      },
      "execution_count": 36,
      "outputs": [
        {
          "output_type": "stream",
          "name": "stdout",
          "text": [
            "[[802   8   9  31   5   1 138   0   6   0]\n",
            " [  0 978   1  16   3   0   1   0   1   0]\n",
            " [ 13   0 757   8 140   0  81   0   1   0]\n",
            " [ 27  16   8 870  42   0  35   0   2   0]\n",
            " [  0   1  86  30 819   0  64   0   0   0]\n",
            " [  0   0   0   0   0 964   0  18   2  16]\n",
            " [107   2  81  29  72   0 702   0   7   0]\n",
            " [  0   0   0   0   0  35   0 923   1  41]\n",
            " [  1   2   4   3   7   4   6   3 970   0]\n",
            " [  0   0   0   0   0   5   1  26   0 968]]\n"
          ]
        }
      ]
    },
    {
      "cell_type": "code",
      "source": [
        "disp = ConfusionMatrixDisplay(confusion_matrix=CM, display_labels=class_names)\n",
        "\n",
        "fig, ax = plt.subplots(figsize=(10, 10))\n",
        "disp.plot(values_format='.3g', ax=ax)\n",
        "plt.xticks(rotation=70)\n",
        "plt.show();"
      ],
      "metadata": {
        "colab": {
          "base_uri": "https://localhost:8080/",
          "height": 600
        },
        "id": "dLeaJ4p40Uva",
        "outputId": "6be4b16c-18bc-445b-f02b-aad21f937b1d"
      },
      "execution_count": 37,
      "outputs": [
        {
          "output_type": "display_data",
          "data": {
            "text/plain": [
              "<Figure size 720x720 with 2 Axes>"
            ],
            "image/png": "[encoded data removed]"
          },
          "metadata": {
            "needs_background": "light"
          }
        }
      ]
    },
    {
      "cell_type": "code",
      "source": [
        "def get_precision_and_recall_from_confusion_matrix(label, cnf_matrix):\n",
        "    str_sum = 0\n",
        "    col_sum = 0\n",
        "    for i in range(len(cnf_matrix)):\n",
        "        str_sum += cnf_matrix[label][i]\n",
        "        col_sum += cnf_matrix[i][label]\n",
        "        \n",
        "    return cnf_matrix[label][label] / str_sum, cnf_matrix[label][label] / col_sum"
      ],
      "metadata": {
        "id": "TUAST5xM0xOC"
      },
      "execution_count": 38,
      "outputs": []
    },
    {
      "cell_type": "code",
      "source": [
        "pr_rc_result = pd.DataFrame()\n",
        "precisions = []\n",
        "recalls = []\n",
        "labels = [0, 1, 2, 3, 4, 5, 6, 7, 8, 9]\n",
        "for l in labels:\n",
        "    p_r = get_precision_and_recall_from_confusion_matrix(l, CM)\n",
        "    precisions.append(p_r[0])\n",
        "    recalls.append(p_r[1])\n",
        "pr_rc_result['label'] = labels\n",
        "pr_rc_result['class_name'] = class_names\n",
        "pr_rc_result['precision'] = precisions\n",
        "pr_rc_result['recall'] = recalls"
      ],
      "metadata": {
        "id": "9gP5rn-a2lLc"
      },
      "execution_count": 42,
      "outputs": []
    },
    {
      "cell_type": "code",
      "source": [
        "pr_rc_result.sort_values(by='precision', ascending=False)"
      ],
      "metadata": {
        "colab": {
          "base_uri": "https://localhost:8080/",
          "height": 363
        },
        "id": "TcA5GmCl2y-Z",
        "outputId": "2240edd5-341a-4a80-a687-3003f1a949ba"
      },
      "execution_count": 43,
      "outputs": [
        {
          "output_type": "execute_result",
          "data": {
            "text/plain": [
              "   label   class_name  precision    recall\n",
              "1      1      Trouser      0.978  0.971202\n",
              "8      8          Bag      0.970  0.979798\n",
              "9      9   Ankle boot      0.968  0.944390\n",
              "5      5       Sandal      0.964  0.955401\n",
              "7      7      Sneaker      0.923  0.951546\n",
              "3      3        Dress      0.870  0.881459\n",
              "4      4         Coat      0.819  0.752757\n",
              "0      0  T-shirt/top      0.802  0.844211\n",
              "2      2     Pullover      0.757  0.800211\n",
              "6      6        Shirt      0.702  0.682879"
            ],
            "text/html": [
              "\n",
              "  <div id=\"df-b64f851f-b2d4-44ec-8781-24f0fe3e9c27\">\n",
              "    <div class=\"colab-df-container\">\n",
              "      <div>\n",
              "<style scoped>\n",
              "    .dataframe tbody tr th:only-of-type {\n",
              "        vertical-align: middle;\n",
              "    }\n",
              "\n",
              "    .dataframe tbody tr th {\n",
              "        vertical-align: top;\n",
              "    }\n",
              "\n",
              "    .dataframe thead th {\n",
              "        text-align: right;\n",
              "    }\n",
              "</style>\n",
              "<table border=\"1\" class=\"dataframe\">\n",
              "  <thead>\n",
              "    <tr style=\"text-align: right;\">\n",
              "      <th></th>\n",
              "      <th>label</th>\n",
              "      <th>class_name</th>\n",
              "      <th>precision</th>\n",
              "      <th>recall</th>\n",
              "    </tr>\n",
              "  </thead>\n",
              "  <tbody>\n",
              "    <tr>\n",
              "      <th>1</th>\n",
              "      <td>1</td>\n",
              "      <td>Trouser</td>\n",
              "      <td>0.978</td>\n",
              "      <td>0.971202</td>\n",
              "    </tr>\n",
              "    <tr>\n",
              "      <th>8</th>\n",
              "      <td>8</td>\n",
              "      <td>Bag</td>\n",
              "      <td>0.970</td>\n",
              "      <td>0.979798</td>\n",
              "    </tr>\n",
              "    <tr>\n",
              "      <th>9</th>\n",
              "      <td>9</td>\n",
              "      <td>Ankle boot</td>\n",
              "      <td>0.968</td>\n",
              "      <td>0.944390</td>\n",
              "    </tr>\n",
              "    <tr>\n",
              "      <th>5</th>\n",
              "      <td>5</td>\n",
              "      <td>Sandal</td>\n",
              "      <td>0.964</td>\n",
              "      <td>0.955401</td>\n",
              "    </tr>\n",
              "    <tr>\n",
              "      <th>7</th>\n",
              "      <td>7</td>\n",
              "      <td>Sneaker</td>\n",
              "      <td>0.923</td>\n",
              "      <td>0.951546</td>\n",
              "    </tr>\n",
              "    <tr>\n",
              "      <th>3</th>\n",
              "      <td>3</td>\n",
              "      <td>Dress</td>\n",
              "      <td>0.870</td>\n",
              "      <td>0.881459</td>\n",
              "    </tr>\n",
              "    <tr>\n",
              "      <th>4</th>\n",
              "      <td>4</td>\n",
              "      <td>Coat</td>\n",
              "      <td>0.819</td>\n",
              "      <td>0.752757</td>\n",
              "    </tr>\n",
              "    <tr>\n",
              "      <th>0</th>\n",
              "      <td>0</td>\n",
              "      <td>T-shirt/top</td>\n",
              "      <td>0.802</td>\n",
              "      <td>0.844211</td>\n",
              "    </tr>\n",
              "    <tr>\n",
              "      <th>2</th>\n",
              "      <td>2</td>\n",
              "      <td>Pullover</td>\n",
              "      <td>0.757</td>\n",
              "      <td>0.800211</td>\n",
              "    </tr>\n",
              "    <tr>\n",
              "      <th>6</th>\n",
              "      <td>6</td>\n",
              "      <td>Shirt</td>\n",
              "      <td>0.702</td>\n",
              "      <td>0.682879</td>\n",
              "    </tr>\n",
              "  </tbody>\n",
              "</table>\n",
              "</div>\n",
              "      <button class=\"colab-df-convert\" onclick=\"convertToInteractive('df-b64f851f-b2d4-44ec-8781-24f0fe3e9c27')\"\n",
              "              title=\"Convert this dataframe to an interactive table.\"\n",
              "              style=\"display:none;\">\n",
              "        \n",
              "  <svg xmlns=\"http://www.w3.org/2000/svg\" height=\"24px\"viewBox=\"0 0 24 24\"\n",
              "       width=\"24px\">\n",
              "    <path d=\"M0 0h24v24H0V0z\" fill=\"none\"/>\n",
              "    <path d=\"M18.56 5.44l.94 2.06.94-2.06 2.06-.94-2.06-.94-.94-2.06-.94 2.06-2.06.94zm-11 1L8.5 8.5l.94-2.06 2.06-.94-2.06-.94L8.5 2.5l-.94 2.06-2.06.94zm10 10l.94 2.06.94-2.06 2.06-.94-2.06-.94-.94-2.06-.94 2.06-2.06.94z\"/><path d=\"M17.41 7.96l-1.37-1.37c-.4-.4-.92-.59-1.43-.59-.52 0-1.04.2-1.43.59L10.3 9.45l-7.72 7.72c-.78.78-.78 2.05 0 2.83L4 21.41c.39.39.9.59 1.41.59.51 0 1.02-.2 1.41-.59l7.78-7.78 2.81-2.81c.8-.78.8-2.07 0-2.86zM5.41 20L4 18.59l7.72-7.72 1.47 1.35L5.41 20z\"/>\n",
              "  </svg>\n",
              "      </button>\n",
              "      \n",
              "  <style>\n",
              "    .colab-df-container {\n",
              "      display:flex;\n",
              "      flex-wrap:wrap;\n",
              "      gap: 12px;\n",
              "    }\n",
              "\n",
              "    .colab-df-convert {\n",
              "      background-color: #E8F0FE;\n",
              "      border: none;\n",
              "      border-radius: 50%;\n",
              "      cursor: pointer;\n",
              "      display: none;\n",
              "      fill: #1967D2;\n",
              "      height: 32px;\n",
              "      padding: 0 0 0 0;\n",
              "      width: 32px;\n",
              "    }\n",
              "\n",
              "    .colab-df-convert:hover {\n",
              "      background-color: #E2EBFA;\n",
              "      box-shadow: 0px 1px 2px rgba(60, 64, 67, 0.3), 0px 1px 3px 1px rgba(60, 64, 67, 0.15);\n",
              "      fill: #174EA6;\n",
              "    }\n",
              "\n",
              "    [theme=dark] .colab-df-convert {\n",
              "      background-color: #3B4455;\n",
              "      fill: #D2E3FC;\n",
              "    }\n",
              "\n",
              "    [theme=dark] .colab-df-convert:hover {\n",
              "      background-color: #434B5C;\n",
              "      box-shadow: 0px 1px 3px 1px rgba(0, 0, 0, 0.15);\n",
              "      filter: drop-shadow(0px 1px 2px rgba(0, 0, 0, 0.3));\n",
              "      fill: #FFFFFF;\n",
              "    }\n",
              "  </style>\n",
              "\n",
              "      <script>\n",
              "        const buttonEl =\n",
              "          document.querySelector('#df-b64f851f-b2d4-44ec-8781-24f0fe3e9c27 button.colab-df-convert');\n",
              "        buttonEl.style.display =\n",
              "          google.colab.kernel.accessAllowed ? 'block' : 'none';\n",
              "\n",
              "        async function convertToInteractive(key) {\n",
              "          const element = document.querySelector('#df-b64f851f-b2d4-44ec-8781-24f0fe3e9c27');\n",
              "          const dataTable =\n",
              "            await google.colab.kernel.invokeFunction('convertToInteractive',\n",
              "                                                     [key], {});\n",
              "          if (!dataTable) return;\n",
              "\n",
              "          const docLinkHtml = 'Like what you see? Visit the ' +\n",
              "            '<a target=\"_blank\" href=https://colab.research.google.com/notebooks/data_table.ipynb>data table notebook</a>'\n",
              "            + ' to learn more about interactive tables.';\n",
              "          element.innerHTML = '';\n",
              "          dataTable['output_type'] = 'display_data';\n",
              "          await google.colab.output.renderOutput(dataTable, element);\n",
              "          const docLink = document.createElement('div');\n",
              "          docLink.innerHTML = docLinkHtml;\n",
              "          element.appendChild(docLink);\n",
              "        }\n",
              "      </script>\n",
              "    </div>\n",
              "  </div>\n",
              "  "
            ]
          },
          "metadata": {},
          "execution_count": 43
        }
      ]
    },
    {
      "cell_type": "code",
      "source": [
        "pr_rc_result.sort_values(by='recall', ascending=False)"
      ],
      "metadata": {
        "colab": {
          "base_uri": "https://localhost:8080/",
          "height": 363
        },
        "id": "oHR1Dtja24SM",
        "outputId": "fc9908bc-6171-4f91-e188-eeb365cc7254"
      },
      "execution_count": 44,
      "outputs": [
        {
          "output_type": "execute_result",
          "data": {
            "text/plain": [
              "   label   class_name  precision    recall\n",
              "8      8          Bag      0.970  0.979798\n",
              "1      1      Trouser      0.978  0.971202\n",
              "5      5       Sandal      0.964  0.955401\n",
              "7      7      Sneaker      0.923  0.951546\n",
              "9      9   Ankle boot      0.968  0.944390\n",
              "3      3        Dress      0.870  0.881459\n",
              "0      0  T-shirt/top      0.802  0.844211\n",
              "2      2     Pullover      0.757  0.800211\n",
              "4      4         Coat      0.819  0.752757\n",
              "6      6        Shirt      0.702  0.682879"
            ],
            "text/html": [
              "\n",
              "  <div id=\"df-b8943d9b-edbf-485a-9211-ce236e9de4b1\">\n",
              "    <div class=\"colab-df-container\">\n",
              "      <div>\n",
              "<style scoped>\n",
              "    .dataframe tbody tr th:only-of-type {\n",
              "        vertical-align: middle;\n",
              "    }\n",
              "\n",
              "    .dataframe tbody tr th {\n",
              "        vertical-align: top;\n",
              "    }\n",
              "\n",
              "    .dataframe thead th {\n",
              "        text-align: right;\n",
              "    }\n",
              "</style>\n",
              "<table border=\"1\" class=\"dataframe\">\n",
              "  <thead>\n",
              "    <tr style=\"text-align: right;\">\n",
              "      <th></th>\n",
              "      <th>label</th>\n",
              "      <th>class_name</th>\n",
              "      <th>precision</th>\n",
              "      <th>recall</th>\n",
              "    </tr>\n",
              "  </thead>\n",
              "  <tbody>\n",
              "    <tr>\n",
              "      <th>8</th>\n",
              "      <td>8</td>\n",
              "      <td>Bag</td>\n",
              "      <td>0.970</td>\n",
              "      <td>0.979798</td>\n",
              "    </tr>\n",
              "    <tr>\n",
              "      <th>1</th>\n",
              "      <td>1</td>\n",
              "      <td>Trouser</td>\n",
              "      <td>0.978</td>\n",
              "      <td>0.971202</td>\n",
              "    </tr>\n",
              "    <tr>\n",
              "      <th>5</th>\n",
              "      <td>5</td>\n",
              "      <td>Sandal</td>\n",
              "      <td>0.964</td>\n",
              "      <td>0.955401</td>\n",
              "    </tr>\n",
              "    <tr>\n",
              "      <th>7</th>\n",
              "      <td>7</td>\n",
              "      <td>Sneaker</td>\n",
              "      <td>0.923</td>\n",
              "      <td>0.951546</td>\n",
              "    </tr>\n",
              "    <tr>\n",
              "      <th>9</th>\n",
              "      <td>9</td>\n",
              "      <td>Ankle boot</td>\n",
              "      <td>0.968</td>\n",
              "      <td>0.944390</td>\n",
              "    </tr>\n",
              "    <tr>\n",
              "      <th>3</th>\n",
              "      <td>3</td>\n",
              "      <td>Dress</td>\n",
              "      <td>0.870</td>\n",
              "      <td>0.881459</td>\n",
              "    </tr>\n",
              "    <tr>\n",
              "      <th>0</th>\n",
              "      <td>0</td>\n",
              "      <td>T-shirt/top</td>\n",
              "      <td>0.802</td>\n",
              "      <td>0.844211</td>\n",
              "    </tr>\n",
              "    <tr>\n",
              "      <th>2</th>\n",
              "      <td>2</td>\n",
              "      <td>Pullover</td>\n",
              "      <td>0.757</td>\n",
              "      <td>0.800211</td>\n",
              "    </tr>\n",
              "    <tr>\n",
              "      <th>4</th>\n",
              "      <td>4</td>\n",
              "      <td>Coat</td>\n",
              "      <td>0.819</td>\n",
              "      <td>0.752757</td>\n",
              "    </tr>\n",
              "    <tr>\n",
              "      <th>6</th>\n",
              "      <td>6</td>\n",
              "      <td>Shirt</td>\n",
              "      <td>0.702</td>\n",
              "      <td>0.682879</td>\n",
              "    </tr>\n",
              "  </tbody>\n",
              "</table>\n",
              "</div>\n",
              "      <button class=\"colab-df-convert\" onclick=\"convertToInteractive('df-b8943d9b-edbf-485a-9211-ce236e9de4b1')\"\n",
              "              title=\"Convert this dataframe to an interactive table.\"\n",
              "              style=\"display:none;\">\n",
              "        \n",
              "  <svg xmlns=\"http://www.w3.org/2000/svg\" height=\"24px\"viewBox=\"0 0 24 24\"\n",
              "       width=\"24px\">\n",
              "    <path d=\"M0 0h24v24H0V0z\" fill=\"none\"/>\n",
              "    <path d=\"M18.56 5.44l.94 2.06.94-2.06 2.06-.94-2.06-.94-.94-2.06-.94 2.06-2.06.94zm-11 1L8.5 8.5l.94-2.06 2.06-.94-2.06-.94L8.5 2.5l-.94 2.06-2.06.94zm10 10l.94 2.06.94-2.06 2.06-.94-2.06-.94-.94-2.06-.94 2.06-2.06.94z\"/><path d=\"M17.41 7.96l-1.37-1.37c-.4-.4-.92-.59-1.43-.59-.52 0-1.04.2-1.43.59L10.3 9.45l-7.72 7.72c-.78.78-.78 2.05 0 2.83L4 21.41c.39.39.9.59 1.41.59.51 0 1.02-.2 1.41-.59l7.78-7.78 2.81-2.81c.8-.78.8-2.07 0-2.86zM5.41 20L4 18.59l7.72-7.72 1.47 1.35L5.41 20z\"/>\n",
              "  </svg>\n",
              "      </button>\n",
              "      \n",
              "  <style>\n",
              "    .colab-df-container {\n",
              "      display:flex;\n",
              "      flex-wrap:wrap;\n",
              "      gap: 12px;\n",
              "    }\n",
              "\n",
              "    .colab-df-convert {\n",
              "      background-color: #E8F0FE;\n",
              "      border: none;\n",
              "      border-radius: 50%;\n",
              "      cursor: pointer;\n",
              "      display: none;\n",
              "      fill: #1967D2;\n",
              "      height: 32px;\n",
              "      padding: 0 0 0 0;\n",
              "      width: 32px;\n",
              "    }\n",
              "\n",
              "    .colab-df-convert:hover {\n",
              "      background-color: #E2EBFA;\n",
              "      box-shadow: 0px 1px 2px rgba(60, 64, 67, 0.3), 0px 1px 3px 1px rgba(60, 64, 67, 0.15);\n",
              "      fill: #174EA6;\n",
              "    }\n",
              "\n",
              "    [theme=dark] .colab-df-convert {\n",
              "      background-color: #3B4455;\n",
              "      fill: #D2E3FC;\n",
              "    }\n",
              "\n",
              "    [theme=dark] .colab-df-convert:hover {\n",
              "      background-color: #434B5C;\n",
              "      box-shadow: 0px 1px 3px 1px rgba(0, 0, 0, 0.15);\n",
              "      filter: drop-shadow(0px 1px 2px rgba(0, 0, 0, 0.3));\n",
              "      fill: #FFFFFF;\n",
              "    }\n",
              "  </style>\n",
              "\n",
              "      <script>\n",
              "        const buttonEl =\n",
              "          document.querySelector('#df-b8943d9b-edbf-485a-9211-ce236e9de4b1 button.colab-df-convert');\n",
              "        buttonEl.style.display =\n",
              "          google.colab.kernel.accessAllowed ? 'block' : 'none';\n",
              "\n",
              "        async function convertToInteractive(key) {\n",
              "          const element = document.querySelector('#df-b8943d9b-edbf-485a-9211-ce236e9de4b1');\n",
              "          const dataTable =\n",
              "            await google.colab.kernel.invokeFunction('convertToInteractive',\n",
              "                                                     [key], {});\n",
              "          if (!dataTable) return;\n",
              "\n",
              "          const docLinkHtml = 'Like what you see? Visit the ' +\n",
              "            '<a target=\"_blank\" href=https://colab.research.google.com/notebooks/data_table.ipynb>data table notebook</a>'\n",
              "            + ' to learn more about interactive tables.';\n",
              "          element.innerHTML = '';\n",
              "          dataTable['output_type'] = 'display_data';\n",
              "          await google.colab.output.renderOutput(dataTable, element);\n",
              "          const docLink = document.createElement('div');\n",
              "          docLink.innerHTML = docLinkHtml;\n",
              "          element.appendChild(docLink);\n",
              "        }\n",
              "      </script>\n",
              "    </div>\n",
              "  </div>\n",
              "  "
            ]
          },
          "metadata": {},
          "execution_count": 44
        }
      ]
    },
    {
      "cell_type": "code",
      "source": [
        "ind = []\n",
        "for i in range(10):\n",
        "    ind.append(np.where(test_labels == i)[0][0])"
      ],
      "metadata": {
        "id": "oSq6MFcE3TLI"
      },
      "execution_count": 45,
      "outputs": []
    },
    {
      "cell_type": "code",
      "source": [
        "plt.figure(figsize=(3 * 10, 5))\n",
        "k = 0\n",
        "for i in ind:\n",
        "    plt.subplot(1, 10, k+1)\n",
        "    k+=1\n",
        "    plt.imshow(X_test[i,:].reshape(28, 28))\n",
        "    plt.xlabel('true:' + str(class_names[test_labels[i]]) + '\\n pred:' + str(class_names[y_pred_class[i]]))\n",
        "\n",
        "plt.show() "
      ],
      "metadata": {
        "colab": {
          "base_uri": "https://localhost:8080/",
          "height": 163
        },
        "id": "GcwAYYmk3cXj",
        "outputId": "98c870ce-5646-4450-dc6c-14af640b462c"
      },
      "execution_count": 46,
      "outputs": [
        {
          "output_type": "display_data",
          "data": {
            "text/plain": [
              "<Figure size 2160x360 with 10 Axes>"
            ],
            "image/png": "[encoded data removed]"
          },
          "metadata": {
            "needs_background": "light"
          }
        }
      ]
    },
    {
      "cell_type": "markdown",
      "source": [
        "Выводы\n",
        "\n",
        "Модель хорошо различает брюки, сумки и все виды обуви. \n",
        "Хуже всего справляется с пальто, рубашками и пулловерами."
      ],
      "metadata": {
        "id": "PeMFBOtZ43_k"
      }
    }
  ]
}